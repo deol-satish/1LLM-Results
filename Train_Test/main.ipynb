{
 "cells": [
  {
   "cell_type": "code",
   "execution_count": 1,
   "metadata": {},
   "outputs": [
    {
     "name": "stdout",
     "output_type": "stream",
     "text": [
      "G:/Github/1LLM-Results/results\\llama3\n",
      "Training\n",
      "['G:/Github/1LLM-Results/results\\\\llama3\\\\2025-02-22\\\\llama3_base_train_logs_epoch_0.json', 'G:/Github/1LLM-Results/results\\\\llama3\\\\2025-02-22\\\\llama3_base_train_logs_epoch_1.json', 'G:/Github/1LLM-Results/results\\\\llama3\\\\2025-02-22\\\\llama3_base_train_logs_epoch_2.json', 'G:/Github/1LLM-Results/results\\\\llama3\\\\2025-02-22\\\\llama3_base_train_logs_epoch_3.json', 'G:/Github/1LLM-Results/results\\\\llama3\\\\2025-02-22\\\\llama3_base_train_logs_epoch_4.json', 'G:/Github/1LLM-Results/results\\\\llama3\\\\2025-02-22\\\\llama3_base_train_logs_epoch_5.json', 'G:/Github/1LLM-Results/results\\\\llama3\\\\2025-02-22\\\\llama3_base_train_logs_epoch_6.json', 'G:/Github/1LLM-Results/results\\\\llama3\\\\2025-02-22\\\\llama3_base_train_logs_epoch_7.json', 'G:/Github/1LLM-Results/results\\\\llama3\\\\2025-02-22\\\\llama3_base_train_logs_epoch_8.json', 'G:/Github/1LLM-Results/results\\\\llama3\\\\2025-02-22\\\\llama3_base_train_logs_epoch_9.json', 'G:/Github/1LLM-Results/results\\\\llama3\\\\2025-02-22\\\\llama3_base_train_logs_epoch_10.json', 'G:/Github/1LLM-Results/results\\\\llama3\\\\2025-02-22\\\\llama3_base_train_logs_epoch_11.json', 'G:/Github/1LLM-Results/results\\\\llama3\\\\2025-02-22\\\\llama3_base_train_logs_epoch_12.json', 'G:/Github/1LLM-Results/results\\\\llama3\\\\2025-02-22\\\\llama3_base_train_logs_epoch_13.json', 'G:/Github/1LLM-Results/results\\\\llama3\\\\2025-02-22\\\\llama3_base_train_logs_epoch_14.json', 'G:/Github/1LLM-Results/results\\\\llama3\\\\2025-02-22\\\\llama3_base_train_logs_epoch_15.json', 'G:/Github/1LLM-Results/results\\\\llama3\\\\2025-02-22\\\\llama3_base_train_logs_epoch_16.json', 'G:/Github/1LLM-Results/results\\\\llama3\\\\2025-02-22\\\\llama3_base_train_logs_epoch_17.json', 'G:/Github/1LLM-Results/results\\\\llama3\\\\2025-02-22\\\\llama3_base_train_logs_epoch_18.json', 'G:/Github/1LLM-Results/results\\\\llama3\\\\2025-02-22\\\\llama3_base_train_logs_epoch_19.json', 'G:/Github/1LLM-Results/results\\\\llama3\\\\2025-02-22\\\\llama3_base_train_logs_epoch_20.json', 'G:/Github/1LLM-Results/results\\\\llama3\\\\2025-02-22\\\\llama3_base_train_logs_epoch_21.json', 'G:/Github/1LLM-Results/results\\\\llama3\\\\2025-02-22\\\\llama3_base_train_logs_epoch_22.json', 'G:/Github/1LLM-Results/results\\\\llama3\\\\2025-02-22\\\\llama3_base_train_logs_epoch_23.json', 'G:/Github/1LLM-Results/results\\\\llama3\\\\2025-02-22\\\\llama3_base_train_logs_epoch_24.json', 'G:/Github/1LLM-Results/results\\\\llama3\\\\2025-02-22\\\\llama3_base_train_logs_epoch_25.json', 'G:/Github/1LLM-Results/results\\\\llama3\\\\2025-02-22\\\\llama3_base_train_logs_epoch_26.json', 'G:/Github/1LLM-Results/results\\\\llama3\\\\2025-02-22\\\\llama3_base_train_logs_epoch_27.json', 'G:/Github/1LLM-Results/results\\\\llama3\\\\2025-02-22\\\\llama3_base_train_logs_epoch_28.json', 'G:/Github/1LLM-Results/results\\\\llama3\\\\2025-02-22\\\\llama3_base_train_logs_epoch_29.json', 'G:/Github/1LLM-Results/results\\\\llama3\\\\2025-02-22\\\\llama3_base_train_logs_epoch_30.json', 'G:/Github/1LLM-Results/results\\\\llama3\\\\2025-02-22\\\\llama3_base_train_logs_epoch_31.json', 'G:/Github/1LLM-Results/results\\\\llama3\\\\2025-02-22\\\\llama3_base_train_logs_epoch_32.json', 'G:/Github/1LLM-Results/results\\\\llama3\\\\2025-02-22\\\\llama3_base_train_logs_epoch_33.json', 'G:/Github/1LLM-Results/results\\\\llama3\\\\2025-02-22\\\\llama3_base_train_logs_epoch_34.json', 'G:/Github/1LLM-Results/results\\\\llama3\\\\2025-02-22\\\\llama3_base_train_logs_epoch_35.json', 'G:/Github/1LLM-Results/results\\\\llama3\\\\2025-02-22\\\\llama3_base_train_logs_epoch_36.json', 'G:/Github/1LLM-Results/results\\\\llama3\\\\2025-02-22\\\\llama3_base_train_logs_epoch_37.json', 'G:/Github/1LLM-Results/results\\\\llama3\\\\2025-02-22\\\\llama3_base_train_logs_epoch_38.json', 'G:/Github/1LLM-Results/results\\\\llama3\\\\2025-02-22\\\\llama3_base_train_logs_epoch_39.json', 'G:/Github/1LLM-Results/results\\\\llama3\\\\2025-02-22\\\\llama3_base_train_logs_epoch_40.json', 'G:/Github/1LLM-Results/results\\\\llama3\\\\2025-02-22\\\\llama3_base_train_logs_epoch_41.json', 'G:/Github/1LLM-Results/results\\\\llama3\\\\2025-02-22\\\\llama3_base_train_logs_epoch_42.json', 'G:/Github/1LLM-Results/results\\\\llama3\\\\2025-02-22\\\\llama3_base_train_logs_epoch_43.json', 'G:/Github/1LLM-Results/results\\\\llama3\\\\2025-02-22\\\\llama3_base_train_logs_epoch_44.json', 'G:/Github/1LLM-Results/results\\\\llama3\\\\2025-02-22\\\\llama3_base_train_logs_epoch_45.json', 'G:/Github/1LLM-Results/results\\\\llama3\\\\2025-02-22\\\\llama3_base_train_logs_epoch_46.json', 'G:/Github/1LLM-Results/results\\\\llama3\\\\2025-02-22\\\\llama3_base_train_logs_epoch_47.json', 'G:/Github/1LLM-Results/results\\\\llama3\\\\2025-02-22\\\\llama3_base_train_logs_epoch_48.json', 'G:/Github/1LLM-Results/results\\\\llama3\\\\2025-02-22\\\\llama3_base_train_logs_epoch_49.json', 'G:/Github/1LLM-Results/results\\\\llama3\\\\2025-02-22\\\\llama3_base_train_logs_epoch_50.json', 'G:/Github/1LLM-Results/results\\\\llama3\\\\2025-02-22\\\\llama3_base_train_logs_epoch_51.json', 'G:/Github/1LLM-Results/results\\\\llama3\\\\2025-02-22\\\\llama3_base_train_logs_epoch_52.json', 'G:/Github/1LLM-Results/results\\\\llama3\\\\2025-02-22\\\\llama3_base_train_logs_epoch_53.json', 'G:/Github/1LLM-Results/results\\\\llama3\\\\2025-02-22\\\\llama3_base_train_logs_epoch_54.json', 'G:/Github/1LLM-Results/results\\\\llama3\\\\2025-02-22\\\\llama3_base_train_logs_epoch_55.json', 'G:/Github/1LLM-Results/results\\\\llama3\\\\2025-02-22\\\\llama3_base_train_logs_epoch_56.json', 'G:/Github/1LLM-Results/results\\\\llama3\\\\2025-02-22\\\\llama3_base_train_logs_epoch_57.json', 'G:/Github/1LLM-Results/results\\\\llama3\\\\2025-02-22\\\\llama3_base_train_logs_epoch_58.json', 'G:/Github/1LLM-Results/results\\\\llama3\\\\2025-02-22\\\\llama3_base_train_logs_epoch_59.json', 'G:/Github/1LLM-Results/results\\\\llama3\\\\2025-02-22\\\\llama3_base_train_logs_epoch_60.json', 'G:/Github/1LLM-Results/results\\\\llama3\\\\2025-02-22\\\\llama3_base_train_logs_epoch_61.json', 'G:/Github/1LLM-Results/results\\\\llama3\\\\2025-02-22\\\\llama3_base_train_logs_epoch_62.json', 'G:/Github/1LLM-Results/results\\\\llama3\\\\2025-02-22\\\\llama3_base_train_logs_epoch_63.json', 'G:/Github/1LLM-Results/results\\\\llama3\\\\2025-02-22\\\\llama3_base_train_logs_epoch_64.json', 'G:/Github/1LLM-Results/results\\\\llama3\\\\2025-02-22\\\\llama3_base_train_logs_epoch_65.json', 'G:/Github/1LLM-Results/results\\\\llama3\\\\2025-02-22\\\\llama3_base_train_logs_epoch_66.json', 'G:/Github/1LLM-Results/results\\\\llama3\\\\2025-02-22\\\\llama3_base_train_logs_epoch_67.json', 'G:/Github/1LLM-Results/results\\\\llama3\\\\2025-02-22\\\\llama3_base_train_logs_epoch_68.json', 'G:/Github/1LLM-Results/results\\\\llama3\\\\2025-02-22\\\\llama3_base_train_logs_epoch_69.json', 'G:/Github/1LLM-Results/results\\\\llama3\\\\2025-02-22\\\\llama3_base_train_logs_epoch_70.json', 'G:/Github/1LLM-Results/results\\\\llama3\\\\2025-02-22\\\\llama3_base_train_logs_epoch_71.json', 'G:/Github/1LLM-Results/results\\\\llama3\\\\2025-02-22\\\\llama3_base_train_logs_epoch_72.json', 'G:/Github/1LLM-Results/results\\\\llama3\\\\2025-02-22\\\\llama3_base_train_logs_epoch_73.json', 'G:/Github/1LLM-Results/results\\\\llama3\\\\2025-02-22\\\\llama3_base_train_logs_epoch_74.json', 'G:/Github/1LLM-Results/results\\\\llama3\\\\2025-02-22\\\\llama3_base_train_logs_epoch_75.json', 'G:/Github/1LLM-Results/results\\\\llama3\\\\2025-02-22\\\\llama3_base_train_logs_epoch_76.json', 'G:/Github/1LLM-Results/results\\\\llama3\\\\2025-02-22\\\\llama3_base_train_logs_epoch_77.json', 'G:/Github/1LLM-Results/results\\\\llama3\\\\2025-02-22\\\\llama3_base_train_logs_epoch_78.json', 'G:/Github/1LLM-Results/results\\\\llama3\\\\2025-02-22\\\\llama3_base_train_logs_epoch_79.json', 'G:/Github/1LLM-Results/results\\\\llama3\\\\2025-02-22\\\\llama3_base_train_logs_epoch_80.json', 'G:/Github/1LLM-Results/results\\\\llama3\\\\2025-02-22\\\\llama3_base_train_logs_epoch_81.json', 'G:/Github/1LLM-Results/results\\\\llama3\\\\2025-02-22\\\\llama3_base_train_logs_epoch_82.json', 'G:/Github/1LLM-Results/results\\\\llama3\\\\2025-02-22\\\\llama3_base_train_logs_epoch_83.json', 'G:/Github/1LLM-Results/results\\\\llama3\\\\2025-02-22\\\\llama3_base_train_logs_epoch_84.json', 'G:/Github/1LLM-Results/results\\\\llama3\\\\2025-02-22\\\\llama3_base_train_logs_epoch_85.json', 'G:/Github/1LLM-Results/results\\\\llama3\\\\2025-02-22\\\\llama3_base_train_logs_epoch_86.json', 'G:/Github/1LLM-Results/results\\\\llama3\\\\2025-02-22\\\\llama3_base_train_logs_epoch_87.json', 'G:/Github/1LLM-Results/results\\\\llama3\\\\2025-02-22\\\\llama3_base_train_logs_epoch_88.json', 'G:/Github/1LLM-Results/results\\\\llama3\\\\2025-02-22\\\\llama3_base_train_logs_epoch_89.json', 'G:/Github/1LLM-Results/results\\\\llama3\\\\2025-02-22\\\\llama3_base_train_logs_epoch_90.json', 'G:/Github/1LLM-Results/results\\\\llama3\\\\2025-02-22\\\\llama3_base_train_logs_epoch_91.json', 'G:/Github/1LLM-Results/results\\\\llama3\\\\2025-02-22\\\\llama3_base_train_logs_epoch_92.json', 'G:/Github/1LLM-Results/results\\\\llama3\\\\2025-02-22\\\\llama3_base_train_logs_epoch_93.json', 'G:/Github/1LLM-Results/results\\\\llama3\\\\2025-02-22\\\\llama3_base_train_logs_epoch_94.json', 'G:/Github/1LLM-Results/results\\\\llama3\\\\2025-02-22\\\\llama3_base_train_logs_epoch_95.json', 'G:/Github/1LLM-Results/results\\\\llama3\\\\2025-02-22\\\\llama3_base_train_logs_epoch_96.json', 'G:/Github/1LLM-Results/results\\\\llama3\\\\2025-02-22\\\\llama3_base_train_logs_epoch_97.json', 'G:/Github/1LLM-Results/results\\\\llama3\\\\2025-02-22\\\\llama3_base_train_logs_epoch_98.json', 'G:/Github/1LLM-Results/results\\\\llama3\\\\2025-02-22\\\\llama3_base_train_logs_epoch_99.json', 'G:/Github/1LLM-Results/results\\\\llama3\\\\2025-02-22\\\\llama3_base_train_logs_epoch_100.json', 'G:/Github/1LLM-Results/results\\\\llama3\\\\2025-02-22\\\\llama3_base_train_logs_epoch_101.json', 'G:/Github/1LLM-Results/results\\\\llama3\\\\2025-02-22\\\\llama3_base_train_logs_epoch_102.json', 'G:/Github/1LLM-Results/results\\\\llama3\\\\2025-02-22\\\\llama3_base_train_logs_epoch_103.json', 'G:/Github/1LLM-Results/results\\\\llama3\\\\2025-02-22\\\\llama3_base_train_logs_epoch_104.json', 'G:/Github/1LLM-Results/results\\\\llama3\\\\2025-02-22\\\\llama3_base_train_logs_epoch_105.json', 'G:/Github/1LLM-Results/results\\\\llama3\\\\2025-02-22\\\\llama3_base_train_logs_epoch_106.json', 'G:/Github/1LLM-Results/results\\\\llama3\\\\2025-02-22\\\\llama3_base_train_logs_epoch_107.json', 'G:/Github/1LLM-Results/results\\\\llama3\\\\2025-02-22\\\\llama3_base_train_logs_epoch_108.json', 'G:/Github/1LLM-Results/results\\\\llama3\\\\2025-02-22\\\\llama3_base_train_logs_epoch_109.json', 'G:/Github/1LLM-Results/results\\\\llama3\\\\2025-02-22\\\\llama3_base_train_logs_epoch_110.json', 'G:/Github/1LLM-Results/results\\\\llama3\\\\2025-02-22\\\\llama3_base_train_logs_epoch_111.json', 'G:/Github/1LLM-Results/results\\\\llama3\\\\2025-02-22\\\\llama3_base_train_logs_epoch_112.json', 'G:/Github/1LLM-Results/results\\\\llama3\\\\2025-02-22\\\\llama3_base_train_logs_epoch_113.json', 'G:/Github/1LLM-Results/results\\\\llama3\\\\2025-02-22\\\\llama3_base_train_logs_epoch_114.json', 'G:/Github/1LLM-Results/results\\\\llama3\\\\2025-02-22\\\\llama3_base_train_logs_epoch_115.json', 'G:/Github/1LLM-Results/results\\\\llama3\\\\2025-02-22\\\\llama3_base_train_logs_epoch_116.json', 'G:/Github/1LLM-Results/results\\\\llama3\\\\2025-02-22\\\\llama3_base_train_logs_epoch_117.json', 'G:/Github/1LLM-Results/results\\\\llama3\\\\2025-02-22\\\\llama3_base_train_logs_epoch_118.json', 'G:/Github/1LLM-Results/results\\\\llama3\\\\2025-02-22\\\\llama3_base_train_logs_epoch_119.json', 'G:/Github/1LLM-Results/results\\\\llama3\\\\2025-02-22\\\\llama3_base_train_logs_epoch_120.json', 'G:/Github/1LLM-Results/results\\\\llama3\\\\2025-02-22\\\\llama3_base_train_logs_epoch_121.json', 'G:/Github/1LLM-Results/results\\\\llama3\\\\2025-02-22\\\\llama3_base_train_logs_epoch_122.json', 'G:/Github/1LLM-Results/results\\\\llama3\\\\2025-02-22\\\\llama3_base_train_logs_epoch_123.json', 'G:/Github/1LLM-Results/results\\\\llama3\\\\2025-02-22\\\\llama3_base_train_logs_epoch_124.json', 'G:/Github/1LLM-Results/results\\\\llama3\\\\2025-02-22\\\\llama3_base_train_logs_epoch_125.json', 'G:/Github/1LLM-Results/results\\\\llama3\\\\2025-02-22\\\\llama3_base_train_logs_epoch_126.json', 'G:/Github/1LLM-Results/results\\\\llama3\\\\2025-02-22\\\\llama3_base_train_logs_epoch_127.json', 'G:/Github/1LLM-Results/results\\\\llama3\\\\2025-02-22\\\\llama3_base_train_logs_epoch_128.json', 'G:/Github/1LLM-Results/results\\\\llama3\\\\2025-02-22\\\\llama3_base_train_logs_epoch_129.json', 'G:/Github/1LLM-Results/results\\\\llama3\\\\2025-02-22\\\\llama3_base_train_logs_epoch_130.json', 'G:/Github/1LLM-Results/results\\\\llama3\\\\2025-02-22\\\\llama3_base_train_logs_epoch_131.json', 'G:/Github/1LLM-Results/results\\\\llama3\\\\2025-02-22\\\\llama3_base_train_logs_epoch_132.json', 'G:/Github/1LLM-Results/results\\\\llama3\\\\2025-02-22\\\\llama3_base_train_logs_epoch_133.json', 'G:/Github/1LLM-Results/results\\\\llama3\\\\2025-02-22\\\\llama3_base_train_logs_epoch_134.json', 'G:/Github/1LLM-Results/results\\\\llama3\\\\2025-02-22\\\\llama3_base_train_logs_epoch_135.json', 'G:/Github/1LLM-Results/results\\\\llama3\\\\2025-02-22\\\\llama3_base_train_logs_epoch_136.json', 'G:/Github/1LLM-Results/results\\\\llama3\\\\2025-02-22\\\\llama3_base_train_logs_epoch_137.json', 'G:/Github/1LLM-Results/results\\\\llama3\\\\2025-02-22\\\\llama3_base_train_logs_epoch_138.json', 'G:/Github/1LLM-Results/results\\\\llama3\\\\2025-02-22\\\\llama3_base_train_logs_epoch_139.json', 'G:/Github/1LLM-Results/results\\\\llama3\\\\2025-02-22\\\\llama3_base_train_logs_epoch_140.json', 'G:/Github/1LLM-Results/results\\\\llama3\\\\2025-02-22\\\\llama3_base_train_logs_epoch_141.json', 'G:/Github/1LLM-Results/results\\\\llama3\\\\2025-02-22\\\\llama3_base_train_logs_epoch_142.json', 'G:/Github/1LLM-Results/results\\\\llama3\\\\2025-02-22\\\\llama3_base_train_logs_epoch_143.json', 'G:/Github/1LLM-Results/results\\\\llama3\\\\2025-02-22\\\\llama3_base_train_logs_epoch_144.json', 'G:/Github/1LLM-Results/results\\\\llama3\\\\2025-02-22\\\\llama3_base_train_logs_epoch_145.json', 'G:/Github/1LLM-Results/results\\\\llama3\\\\2025-02-22\\\\llama3_base_train_logs_epoch_146.json', 'G:/Github/1LLM-Results/results\\\\llama3\\\\2025-02-22\\\\llama3_base_train_logs_epoch_147.json', 'G:/Github/1LLM-Results/results\\\\llama3\\\\2025-02-22\\\\llama3_base_train_logs_epoch_148.json', 'G:/Github/1LLM-Results/results\\\\llama3\\\\2025-02-22\\\\llama3_base_train_logs_epoch_149.json', 'G:/Github/1LLM-Results/results\\\\llama3\\\\2025-02-22\\\\llama3_base_train_logs_epoch_150.json', 'G:/Github/1LLM-Results/results\\\\llama3\\\\2025-02-22\\\\llama3_base_train_logs_epoch_151.json', 'G:/Github/1LLM-Results/results\\\\llama3\\\\2025-02-22\\\\llama3_base_train_logs_epoch_152.json', 'G:/Github/1LLM-Results/results\\\\llama3\\\\2025-02-22\\\\llama3_base_train_logs_epoch_153.json', 'G:/Github/1LLM-Results/results\\\\llama3\\\\2025-02-22\\\\llama3_base_train_logs_epoch_154.json', 'G:/Github/1LLM-Results/results\\\\llama3\\\\2025-02-22\\\\llama3_base_train_logs_epoch_155.json', 'G:/Github/1LLM-Results/results\\\\llama3\\\\2025-02-22\\\\llama3_base_train_logs_epoch_156.json', 'G:/Github/1LLM-Results/results\\\\llama3\\\\2025-02-22\\\\llama3_base_train_logs_epoch_157.json', 'G:/Github/1LLM-Results/results\\\\llama3\\\\2025-02-22\\\\llama3_base_train_logs_epoch_158.json', 'G:/Github/1LLM-Results/results\\\\llama3\\\\2025-02-22\\\\llama3_base_train_logs_epoch_159.json', 'G:/Github/1LLM-Results/results\\\\llama3\\\\2025-02-22\\\\llama3_base_train_logs_epoch_160.json', 'G:/Github/1LLM-Results/results\\\\llama3\\\\2025-02-22\\\\llama3_base_train_logs_epoch_161.json', 'G:/Github/1LLM-Results/results\\\\llama3\\\\2025-02-22\\\\llama3_base_train_logs_epoch_162.json', 'G:/Github/1LLM-Results/results\\\\llama3\\\\2025-02-22\\\\llama3_base_train_logs_epoch_163.json', 'G:/Github/1LLM-Results/results\\\\llama3\\\\2025-02-22\\\\llama3_base_train_logs_epoch_164.json', 'G:/Github/1LLM-Results/results\\\\llama3\\\\2025-02-22\\\\llama3_base_train_logs_epoch_165.json', 'G:/Github/1LLM-Results/results\\\\llama3\\\\2025-02-22\\\\llama3_base_train_logs_epoch_166.json', 'G:/Github/1LLM-Results/results\\\\llama3\\\\2025-02-22\\\\llama3_base_train_logs_epoch_167.json', 'G:/Github/1LLM-Results/results\\\\llama3\\\\2025-02-22\\\\llama3_base_train_logs_epoch_168.json', 'G:/Github/1LLM-Results/results\\\\llama3\\\\2025-02-22\\\\llama3_base_train_logs_epoch_169.json', 'G:/Github/1LLM-Results/results\\\\llama3\\\\2025-02-22\\\\llama3_base_train_logs_epoch_170.json', 'G:/Github/1LLM-Results/results\\\\llama3\\\\2025-02-22\\\\llama3_base_train_logs_epoch_171.json', 'G:/Github/1LLM-Results/results\\\\llama3\\\\2025-02-22\\\\llama3_base_train_logs_epoch_172.json', 'G:/Github/1LLM-Results/results\\\\llama3\\\\2025-02-22\\\\llama3_base_train_logs_epoch_173.json', 'G:/Github/1LLM-Results/results\\\\llama3\\\\2025-02-22\\\\llama3_base_train_logs_epoch_174.json', 'G:/Github/1LLM-Results/results\\\\llama3\\\\2025-02-22\\\\llama3_base_train_logs_epoch_175.json', 'G:/Github/1LLM-Results/results\\\\llama3\\\\2025-02-22\\\\llama3_base_train_logs_epoch_176.json', 'G:/Github/1LLM-Results/results\\\\llama3\\\\2025-02-22\\\\llama3_base_train_logs_epoch_177.json', 'G:/Github/1LLM-Results/results\\\\llama3\\\\2025-02-22\\\\llama3_base_train_logs_epoch_178.json', 'G:/Github/1LLM-Results/results\\\\llama3\\\\2025-02-22\\\\llama3_base_train_logs_epoch_179.json', 'G:/Github/1LLM-Results/results\\\\llama3\\\\2025-02-22\\\\llama3_base_train_logs_epoch_180.json', 'G:/Github/1LLM-Results/results\\\\llama3\\\\2025-02-22\\\\llama3_base_train_logs_epoch_181.json', 'G:/Github/1LLM-Results/results\\\\llama3\\\\2025-02-22\\\\llama3_base_train_logs_epoch_182.json', 'G:/Github/1LLM-Results/results\\\\llama3\\\\2025-02-22\\\\llama3_base_train_logs_epoch_183.json', 'G:/Github/1LLM-Results/results\\\\llama3\\\\2025-02-22\\\\llama3_base_train_logs_epoch_184.json', 'G:/Github/1LLM-Results/results\\\\llama3\\\\2025-02-22\\\\llama3_base_train_logs_epoch_185.json', 'G:/Github/1LLM-Results/results\\\\llama3\\\\2025-02-22\\\\llama3_base_train_logs_epoch_186.json', 'G:/Github/1LLM-Results/results\\\\llama3\\\\2025-02-22\\\\llama3_base_train_logs_epoch_187.json', 'G:/Github/1LLM-Results/results\\\\llama3\\\\2025-02-22\\\\llama3_base_train_logs_epoch_188.json', 'G:/Github/1LLM-Results/results\\\\llama3\\\\2025-02-22\\\\llama3_base_train_logs_epoch_189.json', 'G:/Github/1LLM-Results/results\\\\llama3\\\\2025-02-22\\\\llama3_base_train_logs_epoch_190.json', 'G:/Github/1LLM-Results/results\\\\llama3\\\\2025-02-22\\\\llama3_base_train_logs_epoch_191.json', 'G:/Github/1LLM-Results/results\\\\llama3\\\\2025-02-22\\\\llama3_base_train_logs_epoch_192.json', 'G:/Github/1LLM-Results/results\\\\llama3\\\\2025-02-22\\\\llama3_base_train_logs_epoch_193.json', 'G:/Github/1LLM-Results/results\\\\llama3\\\\2025-02-22\\\\llama3_base_train_logs_epoch_194.json', 'G:/Github/1LLM-Results/results\\\\llama3\\\\2025-02-22\\\\llama3_base_train_logs_epoch_195.json', 'G:/Github/1LLM-Results/results\\\\llama3\\\\2025-02-22\\\\llama3_base_train_logs_epoch_196.json', 'G:/Github/1LLM-Results/results\\\\llama3\\\\2025-02-22\\\\llama3_base_train_logs_epoch_197.json', 'G:/Github/1LLM-Results/results\\\\llama3\\\\2025-02-22\\\\llama3_base_train_logs_epoch_198.json', 'G:/Github/1LLM-Results/results\\\\llama3\\\\2025-02-22\\\\llama3_base_train_logs_epoch_199.json']\n",
      "G:/Github/1LLM-Results/results\\llama2\n",
      "Training\n",
      "['G:/Github/1LLM-Results/results\\\\llama2\\\\2025-02-23\\\\llama2_base_train_logs_epoch_0.json', 'G:/Github/1LLM-Results/results\\\\llama2\\\\2025-02-23\\\\llama2_base_train_logs_epoch_1.json', 'G:/Github/1LLM-Results/results\\\\llama2\\\\2025-02-23\\\\llama2_base_train_logs_epoch_2.json', 'G:/Github/1LLM-Results/results\\\\llama2\\\\2025-02-23\\\\llama2_base_train_logs_epoch_3.json', 'G:/Github/1LLM-Results/results\\\\llama2\\\\2025-02-23\\\\llama2_base_train_logs_epoch_4.json', 'G:/Github/1LLM-Results/results\\\\llama2\\\\2025-02-23\\\\llama2_base_train_logs_epoch_5.json', 'G:/Github/1LLM-Results/results\\\\llama2\\\\2025-02-23\\\\llama2_base_train_logs_epoch_6.json', 'G:/Github/1LLM-Results/results\\\\llama2\\\\2025-02-23\\\\llama2_base_train_logs_epoch_7.json', 'G:/Github/1LLM-Results/results\\\\llama2\\\\2025-02-23\\\\llama2_base_train_logs_epoch_8.json', 'G:/Github/1LLM-Results/results\\\\llama2\\\\2025-02-23\\\\llama2_base_train_logs_epoch_9.json', 'G:/Github/1LLM-Results/results\\\\llama2\\\\2025-02-23\\\\llama2_base_train_logs_epoch_10.json', 'G:/Github/1LLM-Results/results\\\\llama2\\\\2025-02-23\\\\llama2_base_train_logs_epoch_11.json', 'G:/Github/1LLM-Results/results\\\\llama2\\\\2025-02-23\\\\llama2_base_train_logs_epoch_12.json', 'G:/Github/1LLM-Results/results\\\\llama2\\\\2025-02-23\\\\llama2_base_train_logs_epoch_13.json', 'G:/Github/1LLM-Results/results\\\\llama2\\\\2025-02-23\\\\llama2_base_train_logs_epoch_14.json', 'G:/Github/1LLM-Results/results\\\\llama2\\\\2025-02-23\\\\llama2_base_train_logs_epoch_15.json', 'G:/Github/1LLM-Results/results\\\\llama2\\\\2025-02-23\\\\llama2_base_train_logs_epoch_16.json', 'G:/Github/1LLM-Results/results\\\\llama2\\\\2025-02-23\\\\llama2_base_train_logs_epoch_17.json', 'G:/Github/1LLM-Results/results\\\\llama2\\\\2025-02-23\\\\llama2_base_train_logs_epoch_18.json', 'G:/Github/1LLM-Results/results\\\\llama2\\\\2025-02-23\\\\llama2_base_train_logs_epoch_19.json', 'G:/Github/1LLM-Results/results\\\\llama2\\\\2025-02-23\\\\llama2_base_train_logs_epoch_20.json', 'G:/Github/1LLM-Results/results\\\\llama2\\\\2025-02-23\\\\llama2_base_train_logs_epoch_21.json', 'G:/Github/1LLM-Results/results\\\\llama2\\\\2025-02-23\\\\llama2_base_train_logs_epoch_22.json', 'G:/Github/1LLM-Results/results\\\\llama2\\\\2025-02-23\\\\llama2_base_train_logs_epoch_23.json', 'G:/Github/1LLM-Results/results\\\\llama2\\\\2025-02-23\\\\llama2_base_train_logs_epoch_24.json', 'G:/Github/1LLM-Results/results\\\\llama2\\\\2025-02-23\\\\llama2_base_train_logs_epoch_25.json', 'G:/Github/1LLM-Results/results\\\\llama2\\\\2025-02-23\\\\llama2_base_train_logs_epoch_26.json', 'G:/Github/1LLM-Results/results\\\\llama2\\\\2025-02-23\\\\llama2_base_train_logs_epoch_27.json', 'G:/Github/1LLM-Results/results\\\\llama2\\\\2025-02-23\\\\llama2_base_train_logs_epoch_28.json', 'G:/Github/1LLM-Results/results\\\\llama2\\\\2025-02-23\\\\llama2_base_train_logs_epoch_29.json', 'G:/Github/1LLM-Results/results\\\\llama2\\\\2025-02-23\\\\llama2_base_train_logs_epoch_30.json', 'G:/Github/1LLM-Results/results\\\\llama2\\\\2025-02-23\\\\llama2_base_train_logs_epoch_31.json', 'G:/Github/1LLM-Results/results\\\\llama2\\\\2025-02-23\\\\llama2_base_train_logs_epoch_32.json', 'G:/Github/1LLM-Results/results\\\\llama2\\\\2025-02-23\\\\llama2_base_train_logs_epoch_33.json', 'G:/Github/1LLM-Results/results\\\\llama2\\\\2025-02-23\\\\llama2_base_train_logs_epoch_34.json', 'G:/Github/1LLM-Results/results\\\\llama2\\\\2025-02-23\\\\llama2_base_train_logs_epoch_35.json', 'G:/Github/1LLM-Results/results\\\\llama2\\\\2025-02-23\\\\llama2_base_train_logs_epoch_36.json', 'G:/Github/1LLM-Results/results\\\\llama2\\\\2025-02-23\\\\llama2_base_train_logs_epoch_37.json', 'G:/Github/1LLM-Results/results\\\\llama2\\\\2025-02-23\\\\llama2_base_train_logs_epoch_38.json', 'G:/Github/1LLM-Results/results\\\\llama2\\\\2025-02-23\\\\llama2_base_train_logs_epoch_39.json', 'G:/Github/1LLM-Results/results\\\\llama2\\\\2025-02-23\\\\llama2_base_train_logs_epoch_40.json', 'G:/Github/1LLM-Results/results\\\\llama2\\\\2025-02-23\\\\llama2_base_train_logs_epoch_41.json', 'G:/Github/1LLM-Results/results\\\\llama2\\\\2025-02-23\\\\llama2_base_train_logs_epoch_42.json', 'G:/Github/1LLM-Results/results\\\\llama2\\\\2025-02-23\\\\llama2_base_train_logs_epoch_43.json', 'G:/Github/1LLM-Results/results\\\\llama2\\\\2025-02-23\\\\llama2_base_train_logs_epoch_44.json', 'G:/Github/1LLM-Results/results\\\\llama2\\\\2025-02-23\\\\llama2_base_train_logs_epoch_45.json', 'G:/Github/1LLM-Results/results\\\\llama2\\\\2025-02-23\\\\llama2_base_train_logs_epoch_46.json', 'G:/Github/1LLM-Results/results\\\\llama2\\\\2025-02-23\\\\llama2_base_train_logs_epoch_47.json', 'G:/Github/1LLM-Results/results\\\\llama2\\\\2025-02-23\\\\llama2_base_train_logs_epoch_48.json', 'G:/Github/1LLM-Results/results\\\\llama2\\\\2025-02-23\\\\llama2_base_train_logs_epoch_49.json', 'G:/Github/1LLM-Results/results\\\\llama2\\\\2025-02-23\\\\llama2_base_train_logs_epoch_50.json', 'G:/Github/1LLM-Results/results\\\\llama2\\\\2025-02-23\\\\llama2_base_train_logs_epoch_51.json', 'G:/Github/1LLM-Results/results\\\\llama2\\\\2025-02-23\\\\llama2_base_train_logs_epoch_52.json', 'G:/Github/1LLM-Results/results\\\\llama2\\\\2025-02-23\\\\llama2_base_train_logs_epoch_53.json', 'G:/Github/1LLM-Results/results\\\\llama2\\\\2025-02-23\\\\llama2_base_train_logs_epoch_54.json', 'G:/Github/1LLM-Results/results\\\\llama2\\\\2025-02-23\\\\llama2_base_train_logs_epoch_55.json', 'G:/Github/1LLM-Results/results\\\\llama2\\\\2025-02-23\\\\llama2_base_train_logs_epoch_56.json', 'G:/Github/1LLM-Results/results\\\\llama2\\\\2025-02-23\\\\llama2_base_train_logs_epoch_57.json', 'G:/Github/1LLM-Results/results\\\\llama2\\\\2025-02-23\\\\llama2_base_train_logs_epoch_58.json', 'G:/Github/1LLM-Results/results\\\\llama2\\\\2025-02-23\\\\llama2_base_train_logs_epoch_59.json', 'G:/Github/1LLM-Results/results\\\\llama2\\\\2025-02-23\\\\llama2_base_train_logs_epoch_60.json', 'G:/Github/1LLM-Results/results\\\\llama2\\\\2025-02-23\\\\llama2_base_train_logs_epoch_61.json', 'G:/Github/1LLM-Results/results\\\\llama2\\\\2025-02-23\\\\llama2_base_train_logs_epoch_62.json', 'G:/Github/1LLM-Results/results\\\\llama2\\\\2025-02-23\\\\llama2_base_train_logs_epoch_63.json', 'G:/Github/1LLM-Results/results\\\\llama2\\\\2025-02-23\\\\llama2_base_train_logs_epoch_64.json', 'G:/Github/1LLM-Results/results\\\\llama2\\\\2025-02-23\\\\llama2_base_train_logs_epoch_65.json', 'G:/Github/1LLM-Results/results\\\\llama2\\\\2025-02-23\\\\llama2_base_train_logs_epoch_66.json', 'G:/Github/1LLM-Results/results\\\\llama2\\\\2025-02-23\\\\llama2_base_train_logs_epoch_67.json', 'G:/Github/1LLM-Results/results\\\\llama2\\\\2025-02-23\\\\llama2_base_train_logs_epoch_68.json', 'G:/Github/1LLM-Results/results\\\\llama2\\\\2025-02-23\\\\llama2_base_train_logs_epoch_69.json', 'G:/Github/1LLM-Results/results\\\\llama2\\\\2025-02-23\\\\llama2_base_train_logs_epoch_70.json', 'G:/Github/1LLM-Results/results\\\\llama2\\\\2025-02-23\\\\llama2_base_train_logs_epoch_71.json', 'G:/Github/1LLM-Results/results\\\\llama2\\\\2025-02-23\\\\llama2_base_train_logs_epoch_72.json', 'G:/Github/1LLM-Results/results\\\\llama2\\\\2025-02-23\\\\llama2_base_train_logs_epoch_73.json', 'G:/Github/1LLM-Results/results\\\\llama2\\\\2025-02-23\\\\llama2_base_train_logs_epoch_74.json', 'G:/Github/1LLM-Results/results\\\\llama2\\\\2025-02-23\\\\llama2_base_train_logs_epoch_75.json', 'G:/Github/1LLM-Results/results\\\\llama2\\\\2025-02-23\\\\llama2_base_train_logs_epoch_76.json', 'G:/Github/1LLM-Results/results\\\\llama2\\\\2025-02-23\\\\llama2_base_train_logs_epoch_77.json', 'G:/Github/1LLM-Results/results\\\\llama2\\\\2025-02-23\\\\llama2_base_train_logs_epoch_78.json', 'G:/Github/1LLM-Results/results\\\\llama2\\\\2025-02-23\\\\llama2_base_train_logs_epoch_79.json', 'G:/Github/1LLM-Results/results\\\\llama2\\\\2025-02-23\\\\llama2_base_train_logs_epoch_80.json', 'G:/Github/1LLM-Results/results\\\\llama2\\\\2025-02-23\\\\llama2_base_train_logs_epoch_81.json', 'G:/Github/1LLM-Results/results\\\\llama2\\\\2025-02-23\\\\llama2_base_train_logs_epoch_82.json', 'G:/Github/1LLM-Results/results\\\\llama2\\\\2025-02-23\\\\llama2_base_train_logs_epoch_83.json', 'G:/Github/1LLM-Results/results\\\\llama2\\\\2025-02-23\\\\llama2_base_train_logs_epoch_84.json', 'G:/Github/1LLM-Results/results\\\\llama2\\\\2025-02-23\\\\llama2_base_train_logs_epoch_85.json', 'G:/Github/1LLM-Results/results\\\\llama2\\\\2025-02-23\\\\llama2_base_train_logs_epoch_86.json', 'G:/Github/1LLM-Results/results\\\\llama2\\\\2025-02-23\\\\llama2_base_train_logs_epoch_87.json', 'G:/Github/1LLM-Results/results\\\\llama2\\\\2025-02-23\\\\llama2_base_train_logs_epoch_88.json', 'G:/Github/1LLM-Results/results\\\\llama2\\\\2025-02-23\\\\llama2_base_train_logs_epoch_89.json', 'G:/Github/1LLM-Results/results\\\\llama2\\\\2025-02-23\\\\llama2_base_train_logs_epoch_90.json', 'G:/Github/1LLM-Results/results\\\\llama2\\\\2025-02-23\\\\llama2_base_train_logs_epoch_91.json', 'G:/Github/1LLM-Results/results\\\\llama2\\\\2025-02-23\\\\llama2_base_train_logs_epoch_92.json', 'G:/Github/1LLM-Results/results\\\\llama2\\\\2025-02-23\\\\llama2_base_train_logs_epoch_93.json', 'G:/Github/1LLM-Results/results\\\\llama2\\\\2025-02-23\\\\llama2_base_train_logs_epoch_94.json', 'G:/Github/1LLM-Results/results\\\\llama2\\\\2025-02-23\\\\llama2_base_train_logs_epoch_95.json', 'G:/Github/1LLM-Results/results\\\\llama2\\\\2025-02-23\\\\llama2_base_train_logs_epoch_96.json', 'G:/Github/1LLM-Results/results\\\\llama2\\\\2025-02-23\\\\llama2_base_train_logs_epoch_97.json', 'G:/Github/1LLM-Results/results\\\\llama2\\\\2025-02-23\\\\llama2_base_train_logs_epoch_98.json', 'G:/Github/1LLM-Results/results\\\\llama2\\\\2025-02-23\\\\llama2_base_train_logs_epoch_99.json', 'G:/Github/1LLM-Results/results\\\\llama2\\\\2025-02-23\\\\llama2_base_train_logs_epoch_100.json', 'G:/Github/1LLM-Results/results\\\\llama2\\\\2025-02-23\\\\llama2_base_train_logs_epoch_101.json', 'G:/Github/1LLM-Results/results\\\\llama2\\\\2025-02-23\\\\llama2_base_train_logs_epoch_102.json', 'G:/Github/1LLM-Results/results\\\\llama2\\\\2025-02-23\\\\llama2_base_train_logs_epoch_103.json', 'G:/Github/1LLM-Results/results\\\\llama2\\\\2025-02-23\\\\llama2_base_train_logs_epoch_104.json', 'G:/Github/1LLM-Results/results\\\\llama2\\\\2025-02-23\\\\llama2_base_train_logs_epoch_105.json', 'G:/Github/1LLM-Results/results\\\\llama2\\\\2025-02-23\\\\llama2_base_train_logs_epoch_106.json', 'G:/Github/1LLM-Results/results\\\\llama2\\\\2025-02-23\\\\llama2_base_train_logs_epoch_107.json', 'G:/Github/1LLM-Results/results\\\\llama2\\\\2025-02-23\\\\llama2_base_train_logs_epoch_108.json', 'G:/Github/1LLM-Results/results\\\\llama2\\\\2025-02-23\\\\llama2_base_train_logs_epoch_109.json', 'G:/Github/1LLM-Results/results\\\\llama2\\\\2025-02-23\\\\llama2_base_train_logs_epoch_110.json', 'G:/Github/1LLM-Results/results\\\\llama2\\\\2025-02-23\\\\llama2_base_train_logs_epoch_111.json', 'G:/Github/1LLM-Results/results\\\\llama2\\\\2025-02-23\\\\llama2_base_train_logs_epoch_112.json', 'G:/Github/1LLM-Results/results\\\\llama2\\\\2025-02-23\\\\llama2_base_train_logs_epoch_113.json', 'G:/Github/1LLM-Results/results\\\\llama2\\\\2025-02-23\\\\llama2_base_train_logs_epoch_114.json', 'G:/Github/1LLM-Results/results\\\\llama2\\\\2025-02-23\\\\llama2_base_train_logs_epoch_115.json', 'G:/Github/1LLM-Results/results\\\\llama2\\\\2025-02-23\\\\llama2_base_train_logs_epoch_116.json', 'G:/Github/1LLM-Results/results\\\\llama2\\\\2025-02-23\\\\llama2_base_train_logs_epoch_117.json', 'G:/Github/1LLM-Results/results\\\\llama2\\\\2025-02-23\\\\llama2_base_train_logs_epoch_118.json', 'G:/Github/1LLM-Results/results\\\\llama2\\\\2025-02-23\\\\llama2_base_train_logs_epoch_119.json', 'G:/Github/1LLM-Results/results\\\\llama2\\\\2025-02-23\\\\llama2_base_train_logs_epoch_120.json', 'G:/Github/1LLM-Results/results\\\\llama2\\\\2025-02-23\\\\llama2_base_train_logs_epoch_121.json', 'G:/Github/1LLM-Results/results\\\\llama2\\\\2025-02-23\\\\llama2_base_train_logs_epoch_122.json', 'G:/Github/1LLM-Results/results\\\\llama2\\\\2025-02-23\\\\llama2_base_train_logs_epoch_123.json', 'G:/Github/1LLM-Results/results\\\\llama2\\\\2025-02-23\\\\llama2_base_train_logs_epoch_124.json', 'G:/Github/1LLM-Results/results\\\\llama2\\\\2025-02-23\\\\llama2_base_train_logs_epoch_125.json', 'G:/Github/1LLM-Results/results\\\\llama2\\\\2025-02-23\\\\llama2_base_train_logs_epoch_126.json', 'G:/Github/1LLM-Results/results\\\\llama2\\\\2025-02-23\\\\llama2_base_train_logs_epoch_127.json', 'G:/Github/1LLM-Results/results\\\\llama2\\\\2025-02-23\\\\llama2_base_train_logs_epoch_128.json', 'G:/Github/1LLM-Results/results\\\\llama2\\\\2025-02-23\\\\llama2_base_train_logs_epoch_129.json', 'G:/Github/1LLM-Results/results\\\\llama2\\\\2025-02-23\\\\llama2_base_train_logs_epoch_130.json', 'G:/Github/1LLM-Results/results\\\\llama2\\\\2025-02-23\\\\llama2_base_train_logs_epoch_131.json', 'G:/Github/1LLM-Results/results\\\\llama2\\\\2025-02-23\\\\llama2_base_train_logs_epoch_132.json', 'G:/Github/1LLM-Results/results\\\\llama2\\\\2025-02-23\\\\llama2_base_train_logs_epoch_133.json', 'G:/Github/1LLM-Results/results\\\\llama2\\\\2025-02-23\\\\llama2_base_train_logs_epoch_134.json', 'G:/Github/1LLM-Results/results\\\\llama2\\\\2025-02-23\\\\llama2_base_train_logs_epoch_135.json', 'G:/Github/1LLM-Results/results\\\\llama2\\\\2025-02-23\\\\llama2_base_train_logs_epoch_136.json', 'G:/Github/1LLM-Results/results\\\\llama2\\\\2025-02-23\\\\llama2_base_train_logs_epoch_137.json', 'G:/Github/1LLM-Results/results\\\\llama2\\\\2025-02-23\\\\llama2_base_train_logs_epoch_138.json', 'G:/Github/1LLM-Results/results\\\\llama2\\\\2025-02-23\\\\llama2_base_train_logs_epoch_139.json', 'G:/Github/1LLM-Results/results\\\\llama2\\\\2025-02-23\\\\llama2_base_train_logs_epoch_140.json', 'G:/Github/1LLM-Results/results\\\\llama2\\\\2025-02-23\\\\llama2_base_train_logs_epoch_141.json', 'G:/Github/1LLM-Results/results\\\\llama2\\\\2025-02-23\\\\llama2_base_train_logs_epoch_142.json', 'G:/Github/1LLM-Results/results\\\\llama2\\\\2025-02-23\\\\llama2_base_train_logs_epoch_143.json', 'G:/Github/1LLM-Results/results\\\\llama2\\\\2025-02-23\\\\llama2_base_train_logs_epoch_144.json', 'G:/Github/1LLM-Results/results\\\\llama2\\\\2025-02-23\\\\llama2_base_train_logs_epoch_145.json', 'G:/Github/1LLM-Results/results\\\\llama2\\\\2025-02-23\\\\llama2_base_train_logs_epoch_146.json', 'G:/Github/1LLM-Results/results\\\\llama2\\\\2025-02-23\\\\llama2_base_train_logs_epoch_147.json', 'G:/Github/1LLM-Results/results\\\\llama2\\\\2025-02-23\\\\llama2_base_train_logs_epoch_148.json', 'G:/Github/1LLM-Results/results\\\\llama2\\\\2025-02-23\\\\llama2_base_train_logs_epoch_149.json', 'G:/Github/1LLM-Results/results\\\\llama2\\\\2025-02-23\\\\llama2_base_train_logs_epoch_150.json', 'G:/Github/1LLM-Results/results\\\\llama2\\\\2025-02-23\\\\llama2_base_train_logs_epoch_151.json', 'G:/Github/1LLM-Results/results\\\\llama2\\\\2025-02-23\\\\llama2_base_train_logs_epoch_152.json', 'G:/Github/1LLM-Results/results\\\\llama2\\\\2025-02-23\\\\llama2_base_train_logs_epoch_153.json', 'G:/Github/1LLM-Results/results\\\\llama2\\\\2025-02-23\\\\llama2_base_train_logs_epoch_154.json', 'G:/Github/1LLM-Results/results\\\\llama2\\\\2025-02-23\\\\llama2_base_train_logs_epoch_155.json', 'G:/Github/1LLM-Results/results\\\\llama2\\\\2025-02-23\\\\llama2_base_train_logs_epoch_156.json', 'G:/Github/1LLM-Results/results\\\\llama2\\\\2025-02-23\\\\llama2_base_train_logs_epoch_157.json', 'G:/Github/1LLM-Results/results\\\\llama2\\\\2025-02-23\\\\llama2_base_train_logs_epoch_158.json', 'G:/Github/1LLM-Results/results\\\\llama2\\\\2025-02-23\\\\llama2_base_train_logs_epoch_159.json', 'G:/Github/1LLM-Results/results\\\\llama2\\\\2025-02-23\\\\llama2_base_train_logs_epoch_160.json', 'G:/Github/1LLM-Results/results\\\\llama2\\\\2025-02-23\\\\llama2_base_train_logs_epoch_161.json', 'G:/Github/1LLM-Results/results\\\\llama2\\\\2025-02-23\\\\llama2_base_train_logs_epoch_162.json', 'G:/Github/1LLM-Results/results\\\\llama2\\\\2025-02-23\\\\llama2_base_train_logs_epoch_163.json', 'G:/Github/1LLM-Results/results\\\\llama2\\\\2025-02-23\\\\llama2_base_train_logs_epoch_164.json', 'G:/Github/1LLM-Results/results\\\\llama2\\\\2025-02-23\\\\llama2_base_train_logs_epoch_165.json', 'G:/Github/1LLM-Results/results\\\\llama2\\\\2025-02-23\\\\llama2_base_train_logs_epoch_166.json', 'G:/Github/1LLM-Results/results\\\\llama2\\\\2025-02-23\\\\llama2_base_train_logs_epoch_167.json', 'G:/Github/1LLM-Results/results\\\\llama2\\\\2025-02-23\\\\llama2_base_train_logs_epoch_168.json', 'G:/Github/1LLM-Results/results\\\\llama2\\\\2025-02-23\\\\llama2_base_train_logs_epoch_169.json', 'G:/Github/1LLM-Results/results\\\\llama2\\\\2025-02-23\\\\llama2_base_train_logs_epoch_170.json', 'G:/Github/1LLM-Results/results\\\\llama2\\\\2025-02-23\\\\llama2_base_train_logs_epoch_171.json', 'G:/Github/1LLM-Results/results\\\\llama2\\\\2025-02-23\\\\llama2_base_train_logs_epoch_172.json', 'G:/Github/1LLM-Results/results\\\\llama2\\\\2025-02-23\\\\llama2_base_train_logs_epoch_173.json', 'G:/Github/1LLM-Results/results\\\\llama2\\\\2025-02-23\\\\llama2_base_train_logs_epoch_174.json', 'G:/Github/1LLM-Results/results\\\\llama2\\\\2025-02-23\\\\llama2_base_train_logs_epoch_175.json', 'G:/Github/1LLM-Results/results\\\\llama2\\\\2025-02-23\\\\llama2_base_train_logs_epoch_176.json', 'G:/Github/1LLM-Results/results\\\\llama2\\\\2025-02-23\\\\llama2_base_train_logs_epoch_177.json', 'G:/Github/1LLM-Results/results\\\\llama2\\\\2025-02-23\\\\llama2_base_train_logs_epoch_178.json', 'G:/Github/1LLM-Results/results\\\\llama2\\\\2025-02-23\\\\llama2_base_train_logs_epoch_179.json', 'G:/Github/1LLM-Results/results\\\\llama2\\\\2025-02-23\\\\llama2_base_train_logs_epoch_180.json', 'G:/Github/1LLM-Results/results\\\\llama2\\\\2025-02-23\\\\llama2_base_train_logs_epoch_181.json', 'G:/Github/1LLM-Results/results\\\\llama2\\\\2025-02-23\\\\llama2_base_train_logs_epoch_182.json', 'G:/Github/1LLM-Results/results\\\\llama2\\\\2025-02-23\\\\llama2_base_train_logs_epoch_183.json', 'G:/Github/1LLM-Results/results\\\\llama2\\\\2025-02-23\\\\llama2_base_train_logs_epoch_184.json', 'G:/Github/1LLM-Results/results\\\\llama2\\\\2025-02-23\\\\llama2_base_train_logs_epoch_185.json', 'G:/Github/1LLM-Results/results\\\\llama2\\\\2025-02-23\\\\llama2_base_train_logs_epoch_186.json', 'G:/Github/1LLM-Results/results\\\\llama2\\\\2025-02-23\\\\llama2_base_train_logs_epoch_187.json', 'G:/Github/1LLM-Results/results\\\\llama2\\\\2025-02-23\\\\llama2_base_train_logs_epoch_188.json', 'G:/Github/1LLM-Results/results\\\\llama2\\\\2025-02-23\\\\llama2_base_train_logs_epoch_189.json', 'G:/Github/1LLM-Results/results\\\\llama2\\\\2025-02-23\\\\llama2_base_train_logs_epoch_190.json', 'G:/Github/1LLM-Results/results\\\\llama2\\\\2025-02-23\\\\llama2_base_train_logs_epoch_191.json', 'G:/Github/1LLM-Results/results\\\\llama2\\\\2025-02-23\\\\llama2_base_train_logs_epoch_192.json', 'G:/Github/1LLM-Results/results\\\\llama2\\\\2025-02-23\\\\llama2_base_train_logs_epoch_193.json', 'G:/Github/1LLM-Results/results\\\\llama2\\\\2025-02-23\\\\llama2_base_train_logs_epoch_194.json', 'G:/Github/1LLM-Results/results\\\\llama2\\\\2025-02-23\\\\llama2_base_train_logs_epoch_195.json', 'G:/Github/1LLM-Results/results\\\\llama2\\\\2025-02-23\\\\llama2_base_train_logs_epoch_196.json', 'G:/Github/1LLM-Results/results\\\\llama2\\\\2025-02-23\\\\llama2_base_train_logs_epoch_197.json', 'G:/Github/1LLM-Results/results\\\\llama2\\\\2025-02-23\\\\llama2_base_train_logs_epoch_198.json', 'G:/Github/1LLM-Results/results\\\\llama2\\\\2025-02-23\\\\llama2_base_train_logs_epoch_199.json']\n",
      "G:/Github/1LLM-Results/results\\opt\n",
      "Training\n",
      "['G:/Github/1LLM-Results/results\\\\opt\\\\2025-02-22\\\\opt_xs_train_logs_epoch_0.json', 'G:/Github/1LLM-Results/results\\\\opt\\\\2025-02-22\\\\opt_xs_train_logs_epoch_1.json', 'G:/Github/1LLM-Results/results\\\\opt\\\\2025-02-22\\\\opt_xs_train_logs_epoch_2.json', 'G:/Github/1LLM-Results/results\\\\opt\\\\2025-02-22\\\\opt_xs_train_logs_epoch_3.json', 'G:/Github/1LLM-Results/results\\\\opt\\\\2025-02-22\\\\opt_xs_train_logs_epoch_4.json', 'G:/Github/1LLM-Results/results\\\\opt\\\\2025-02-22\\\\opt_xs_train_logs_epoch_5.json', 'G:/Github/1LLM-Results/results\\\\opt\\\\2025-02-22\\\\opt_xs_train_logs_epoch_6.json', 'G:/Github/1LLM-Results/results\\\\opt\\\\2025-02-22\\\\opt_xs_train_logs_epoch_7.json', 'G:/Github/1LLM-Results/results\\\\opt\\\\2025-02-22\\\\opt_xs_train_logs_epoch_8.json', 'G:/Github/1LLM-Results/results\\\\opt\\\\2025-02-22\\\\opt_xs_train_logs_epoch_9.json', 'G:/Github/1LLM-Results/results\\\\opt\\\\2025-02-22\\\\opt_xs_train_logs_epoch_10.json', 'G:/Github/1LLM-Results/results\\\\opt\\\\2025-02-22\\\\opt_xs_train_logs_epoch_11.json', 'G:/Github/1LLM-Results/results\\\\opt\\\\2025-02-22\\\\opt_xs_train_logs_epoch_12.json', 'G:/Github/1LLM-Results/results\\\\opt\\\\2025-02-22\\\\opt_xs_train_logs_epoch_13.json', 'G:/Github/1LLM-Results/results\\\\opt\\\\2025-02-22\\\\opt_xs_train_logs_epoch_14.json', 'G:/Github/1LLM-Results/results\\\\opt\\\\2025-02-22\\\\opt_xs_train_logs_epoch_15.json', 'G:/Github/1LLM-Results/results\\\\opt\\\\2025-02-22\\\\opt_xs_train_logs_epoch_16.json', 'G:/Github/1LLM-Results/results\\\\opt\\\\2025-02-22\\\\opt_xs_train_logs_epoch_17.json', 'G:/Github/1LLM-Results/results\\\\opt\\\\2025-02-22\\\\opt_xs_train_logs_epoch_18.json', 'G:/Github/1LLM-Results/results\\\\opt\\\\2025-02-22\\\\opt_xs_train_logs_epoch_19.json', 'G:/Github/1LLM-Results/results\\\\opt\\\\2025-02-22\\\\opt_xs_train_logs_epoch_20.json', 'G:/Github/1LLM-Results/results\\\\opt\\\\2025-02-22\\\\opt_xs_train_logs_epoch_21.json', 'G:/Github/1LLM-Results/results\\\\opt\\\\2025-02-22\\\\opt_xs_train_logs_epoch_22.json', 'G:/Github/1LLM-Results/results\\\\opt\\\\2025-02-22\\\\opt_xs_train_logs_epoch_23.json', 'G:/Github/1LLM-Results/results\\\\opt\\\\2025-02-22\\\\opt_xs_train_logs_epoch_24.json', 'G:/Github/1LLM-Results/results\\\\opt\\\\2025-02-22\\\\opt_xs_train_logs_epoch_25.json', 'G:/Github/1LLM-Results/results\\\\opt\\\\2025-02-22\\\\opt_xs_train_logs_epoch_26.json', 'G:/Github/1LLM-Results/results\\\\opt\\\\2025-02-22\\\\opt_xs_train_logs_epoch_27.json', 'G:/Github/1LLM-Results/results\\\\opt\\\\2025-02-22\\\\opt_xs_train_logs_epoch_28.json', 'G:/Github/1LLM-Results/results\\\\opt\\\\2025-02-22\\\\opt_xs_train_logs_epoch_29.json', 'G:/Github/1LLM-Results/results\\\\opt\\\\2025-02-22\\\\opt_xs_train_logs_epoch_30.json', 'G:/Github/1LLM-Results/results\\\\opt\\\\2025-02-22\\\\opt_xs_train_logs_epoch_31.json', 'G:/Github/1LLM-Results/results\\\\opt\\\\2025-02-22\\\\opt_xs_train_logs_epoch_32.json', 'G:/Github/1LLM-Results/results\\\\opt\\\\2025-02-22\\\\opt_xs_train_logs_epoch_33.json', 'G:/Github/1LLM-Results/results\\\\opt\\\\2025-02-22\\\\opt_xs_train_logs_epoch_34.json', 'G:/Github/1LLM-Results/results\\\\opt\\\\2025-02-22\\\\opt_xs_train_logs_epoch_35.json', 'G:/Github/1LLM-Results/results\\\\opt\\\\2025-02-22\\\\opt_xs_train_logs_epoch_36.json', 'G:/Github/1LLM-Results/results\\\\opt\\\\2025-02-22\\\\opt_xs_train_logs_epoch_37.json', 'G:/Github/1LLM-Results/results\\\\opt\\\\2025-02-22\\\\opt_xs_train_logs_epoch_38.json', 'G:/Github/1LLM-Results/results\\\\opt\\\\2025-02-22\\\\opt_xs_train_logs_epoch_39.json', 'G:/Github/1LLM-Results/results\\\\opt\\\\2025-02-22\\\\opt_xs_train_logs_epoch_40.json', 'G:/Github/1LLM-Results/results\\\\opt\\\\2025-02-22\\\\opt_xs_train_logs_epoch_41.json', 'G:/Github/1LLM-Results/results\\\\opt\\\\2025-02-22\\\\opt_xs_train_logs_epoch_42.json', 'G:/Github/1LLM-Results/results\\\\opt\\\\2025-02-22\\\\opt_xs_train_logs_epoch_43.json', 'G:/Github/1LLM-Results/results\\\\opt\\\\2025-02-22\\\\opt_xs_train_logs_epoch_44.json', 'G:/Github/1LLM-Results/results\\\\opt\\\\2025-02-22\\\\opt_xs_train_logs_epoch_45.json', 'G:/Github/1LLM-Results/results\\\\opt\\\\2025-02-22\\\\opt_xs_train_logs_epoch_46.json', 'G:/Github/1LLM-Results/results\\\\opt\\\\2025-02-22\\\\opt_xs_train_logs_epoch_47.json', 'G:/Github/1LLM-Results/results\\\\opt\\\\2025-02-22\\\\opt_xs_train_logs_epoch_48.json', 'G:/Github/1LLM-Results/results\\\\opt\\\\2025-02-22\\\\opt_xs_train_logs_epoch_49.json', 'G:/Github/1LLM-Results/results\\\\opt\\\\2025-02-22\\\\opt_xs_train_logs_epoch_50.json', 'G:/Github/1LLM-Results/results\\\\opt\\\\2025-02-22\\\\opt_xs_train_logs_epoch_51.json', 'G:/Github/1LLM-Results/results\\\\opt\\\\2025-02-22\\\\opt_xs_train_logs_epoch_52.json', 'G:/Github/1LLM-Results/results\\\\opt\\\\2025-02-22\\\\opt_xs_train_logs_epoch_53.json', 'G:/Github/1LLM-Results/results\\\\opt\\\\2025-02-22\\\\opt_xs_train_logs_epoch_54.json', 'G:/Github/1LLM-Results/results\\\\opt\\\\2025-02-22\\\\opt_xs_train_logs_epoch_55.json', 'G:/Github/1LLM-Results/results\\\\opt\\\\2025-02-22\\\\opt_xs_train_logs_epoch_56.json', 'G:/Github/1LLM-Results/results\\\\opt\\\\2025-02-22\\\\opt_xs_train_logs_epoch_57.json', 'G:/Github/1LLM-Results/results\\\\opt\\\\2025-02-22\\\\opt_xs_train_logs_epoch_58.json', 'G:/Github/1LLM-Results/results\\\\opt\\\\2025-02-22\\\\opt_xs_train_logs_epoch_59.json', 'G:/Github/1LLM-Results/results\\\\opt\\\\2025-02-22\\\\opt_xs_train_logs_epoch_60.json', 'G:/Github/1LLM-Results/results\\\\opt\\\\2025-02-22\\\\opt_xs_train_logs_epoch_61.json', 'G:/Github/1LLM-Results/results\\\\opt\\\\2025-02-22\\\\opt_xs_train_logs_epoch_62.json', 'G:/Github/1LLM-Results/results\\\\opt\\\\2025-02-22\\\\opt_xs_train_logs_epoch_63.json', 'G:/Github/1LLM-Results/results\\\\opt\\\\2025-02-22\\\\opt_xs_train_logs_epoch_64.json', 'G:/Github/1LLM-Results/results\\\\opt\\\\2025-02-22\\\\opt_xs_train_logs_epoch_65.json', 'G:/Github/1LLM-Results/results\\\\opt\\\\2025-02-22\\\\opt_xs_train_logs_epoch_66.json', 'G:/Github/1LLM-Results/results\\\\opt\\\\2025-02-22\\\\opt_xs_train_logs_epoch_67.json', 'G:/Github/1LLM-Results/results\\\\opt\\\\2025-02-22\\\\opt_xs_train_logs_epoch_68.json', 'G:/Github/1LLM-Results/results\\\\opt\\\\2025-02-22\\\\opt_xs_train_logs_epoch_69.json', 'G:/Github/1LLM-Results/results\\\\opt\\\\2025-02-22\\\\opt_xs_train_logs_epoch_70.json', 'G:/Github/1LLM-Results/results\\\\opt\\\\2025-02-22\\\\opt_xs_train_logs_epoch_71.json', 'G:/Github/1LLM-Results/results\\\\opt\\\\2025-02-22\\\\opt_xs_train_logs_epoch_72.json', 'G:/Github/1LLM-Results/results\\\\opt\\\\2025-02-22\\\\opt_xs_train_logs_epoch_73.json', 'G:/Github/1LLM-Results/results\\\\opt\\\\2025-02-22\\\\opt_xs_train_logs_epoch_74.json', 'G:/Github/1LLM-Results/results\\\\opt\\\\2025-02-22\\\\opt_xs_train_logs_epoch_75.json', 'G:/Github/1LLM-Results/results\\\\opt\\\\2025-02-22\\\\opt_xs_train_logs_epoch_76.json', 'G:/Github/1LLM-Results/results\\\\opt\\\\2025-02-22\\\\opt_xs_train_logs_epoch_77.json', 'G:/Github/1LLM-Results/results\\\\opt\\\\2025-02-22\\\\opt_xs_train_logs_epoch_78.json', 'G:/Github/1LLM-Results/results\\\\opt\\\\2025-02-22\\\\opt_xs_train_logs_epoch_79.json', 'G:/Github/1LLM-Results/results\\\\opt\\\\2025-02-22\\\\opt_xs_train_logs_epoch_80.json', 'G:/Github/1LLM-Results/results\\\\opt\\\\2025-02-22\\\\opt_xs_train_logs_epoch_81.json', 'G:/Github/1LLM-Results/results\\\\opt\\\\2025-02-22\\\\opt_xs_train_logs_epoch_82.json', 'G:/Github/1LLM-Results/results\\\\opt\\\\2025-02-22\\\\opt_xs_train_logs_epoch_83.json', 'G:/Github/1LLM-Results/results\\\\opt\\\\2025-02-22\\\\opt_xs_train_logs_epoch_84.json', 'G:/Github/1LLM-Results/results\\\\opt\\\\2025-02-22\\\\opt_xs_train_logs_epoch_85.json', 'G:/Github/1LLM-Results/results\\\\opt\\\\2025-02-22\\\\opt_xs_train_logs_epoch_86.json', 'G:/Github/1LLM-Results/results\\\\opt\\\\2025-02-22\\\\opt_xs_train_logs_epoch_87.json', 'G:/Github/1LLM-Results/results\\\\opt\\\\2025-02-22\\\\opt_xs_train_logs_epoch_88.json', 'G:/Github/1LLM-Results/results\\\\opt\\\\2025-02-22\\\\opt_xs_train_logs_epoch_89.json', 'G:/Github/1LLM-Results/results\\\\opt\\\\2025-02-22\\\\opt_xs_train_logs_epoch_90.json', 'G:/Github/1LLM-Results/results\\\\opt\\\\2025-02-22\\\\opt_xs_train_logs_epoch_91.json', 'G:/Github/1LLM-Results/results\\\\opt\\\\2025-02-22\\\\opt_xs_train_logs_epoch_92.json', 'G:/Github/1LLM-Results/results\\\\opt\\\\2025-02-22\\\\opt_xs_train_logs_epoch_93.json', 'G:/Github/1LLM-Results/results\\\\opt\\\\2025-02-22\\\\opt_xs_train_logs_epoch_94.json', 'G:/Github/1LLM-Results/results\\\\opt\\\\2025-02-22\\\\opt_xs_train_logs_epoch_95.json', 'G:/Github/1LLM-Results/results\\\\opt\\\\2025-02-22\\\\opt_xs_train_logs_epoch_96.json', 'G:/Github/1LLM-Results/results\\\\opt\\\\2025-02-22\\\\opt_xs_train_logs_epoch_97.json', 'G:/Github/1LLM-Results/results\\\\opt\\\\2025-02-22\\\\opt_xs_train_logs_epoch_98.json', 'G:/Github/1LLM-Results/results\\\\opt\\\\2025-02-22\\\\opt_xs_train_logs_epoch_99.json', 'G:/Github/1LLM-Results/results\\\\opt\\\\2025-02-22\\\\opt_xs_train_logs_epoch_100.json', 'G:/Github/1LLM-Results/results\\\\opt\\\\2025-02-22\\\\opt_xs_train_logs_epoch_101.json', 'G:/Github/1LLM-Results/results\\\\opt\\\\2025-02-22\\\\opt_xs_train_logs_epoch_102.json', 'G:/Github/1LLM-Results/results\\\\opt\\\\2025-02-22\\\\opt_xs_train_logs_epoch_103.json', 'G:/Github/1LLM-Results/results\\\\opt\\\\2025-02-22\\\\opt_xs_train_logs_epoch_104.json', 'G:/Github/1LLM-Results/results\\\\opt\\\\2025-02-22\\\\opt_xs_train_logs_epoch_105.json', 'G:/Github/1LLM-Results/results\\\\opt\\\\2025-02-22\\\\opt_xs_train_logs_epoch_106.json', 'G:/Github/1LLM-Results/results\\\\opt\\\\2025-02-22\\\\opt_xs_train_logs_epoch_107.json', 'G:/Github/1LLM-Results/results\\\\opt\\\\2025-02-22\\\\opt_xs_train_logs_epoch_108.json', 'G:/Github/1LLM-Results/results\\\\opt\\\\2025-02-22\\\\opt_xs_train_logs_epoch_109.json', 'G:/Github/1LLM-Results/results\\\\opt\\\\2025-02-22\\\\opt_xs_train_logs_epoch_110.json', 'G:/Github/1LLM-Results/results\\\\opt\\\\2025-02-22\\\\opt_xs_train_logs_epoch_111.json', 'G:/Github/1LLM-Results/results\\\\opt\\\\2025-02-22\\\\opt_xs_train_logs_epoch_112.json', 'G:/Github/1LLM-Results/results\\\\opt\\\\2025-02-22\\\\opt_xs_train_logs_epoch_113.json', 'G:/Github/1LLM-Results/results\\\\opt\\\\2025-02-22\\\\opt_xs_train_logs_epoch_114.json', 'G:/Github/1LLM-Results/results\\\\opt\\\\2025-02-22\\\\opt_xs_train_logs_epoch_115.json', 'G:/Github/1LLM-Results/results\\\\opt\\\\2025-02-22\\\\opt_xs_train_logs_epoch_116.json', 'G:/Github/1LLM-Results/results\\\\opt\\\\2025-02-22\\\\opt_xs_train_logs_epoch_117.json', 'G:/Github/1LLM-Results/results\\\\opt\\\\2025-02-22\\\\opt_xs_train_logs_epoch_118.json', 'G:/Github/1LLM-Results/results\\\\opt\\\\2025-02-22\\\\opt_xs_train_logs_epoch_119.json', 'G:/Github/1LLM-Results/results\\\\opt\\\\2025-02-22\\\\opt_xs_train_logs_epoch_120.json', 'G:/Github/1LLM-Results/results\\\\opt\\\\2025-02-22\\\\opt_xs_train_logs_epoch_121.json', 'G:/Github/1LLM-Results/results\\\\opt\\\\2025-02-22\\\\opt_xs_train_logs_epoch_122.json', 'G:/Github/1LLM-Results/results\\\\opt\\\\2025-02-22\\\\opt_xs_train_logs_epoch_123.json', 'G:/Github/1LLM-Results/results\\\\opt\\\\2025-02-22\\\\opt_xs_train_logs_epoch_124.json', 'G:/Github/1LLM-Results/results\\\\opt\\\\2025-02-22\\\\opt_xs_train_logs_epoch_125.json', 'G:/Github/1LLM-Results/results\\\\opt\\\\2025-02-22\\\\opt_xs_train_logs_epoch_126.json', 'G:/Github/1LLM-Results/results\\\\opt\\\\2025-02-22\\\\opt_xs_train_logs_epoch_127.json', 'G:/Github/1LLM-Results/results\\\\opt\\\\2025-02-22\\\\opt_xs_train_logs_epoch_128.json', 'G:/Github/1LLM-Results/results\\\\opt\\\\2025-02-22\\\\opt_xs_train_logs_epoch_129.json', 'G:/Github/1LLM-Results/results\\\\opt\\\\2025-02-22\\\\opt_xs_train_logs_epoch_130.json', 'G:/Github/1LLM-Results/results\\\\opt\\\\2025-02-22\\\\opt_xs_train_logs_epoch_131.json', 'G:/Github/1LLM-Results/results\\\\opt\\\\2025-02-22\\\\opt_xs_train_logs_epoch_132.json', 'G:/Github/1LLM-Results/results\\\\opt\\\\2025-02-22\\\\opt_xs_train_logs_epoch_133.json', 'G:/Github/1LLM-Results/results\\\\opt\\\\2025-02-22\\\\opt_xs_train_logs_epoch_134.json', 'G:/Github/1LLM-Results/results\\\\opt\\\\2025-02-22\\\\opt_xs_train_logs_epoch_135.json', 'G:/Github/1LLM-Results/results\\\\opt\\\\2025-02-22\\\\opt_xs_train_logs_epoch_136.json', 'G:/Github/1LLM-Results/results\\\\opt\\\\2025-02-22\\\\opt_xs_train_logs_epoch_137.json', 'G:/Github/1LLM-Results/results\\\\opt\\\\2025-02-22\\\\opt_xs_train_logs_epoch_138.json', 'G:/Github/1LLM-Results/results\\\\opt\\\\2025-02-22\\\\opt_xs_train_logs_epoch_139.json', 'G:/Github/1LLM-Results/results\\\\opt\\\\2025-02-22\\\\opt_xs_train_logs_epoch_140.json', 'G:/Github/1LLM-Results/results\\\\opt\\\\2025-02-22\\\\opt_xs_train_logs_epoch_141.json', 'G:/Github/1LLM-Results/results\\\\opt\\\\2025-02-22\\\\opt_xs_train_logs_epoch_142.json', 'G:/Github/1LLM-Results/results\\\\opt\\\\2025-02-22\\\\opt_xs_train_logs_epoch_143.json', 'G:/Github/1LLM-Results/results\\\\opt\\\\2025-02-22\\\\opt_xs_train_logs_epoch_144.json', 'G:/Github/1LLM-Results/results\\\\opt\\\\2025-02-22\\\\opt_xs_train_logs_epoch_145.json', 'G:/Github/1LLM-Results/results\\\\opt\\\\2025-02-22\\\\opt_xs_train_logs_epoch_146.json', 'G:/Github/1LLM-Results/results\\\\opt\\\\2025-02-22\\\\opt_xs_train_logs_epoch_147.json', 'G:/Github/1LLM-Results/results\\\\opt\\\\2025-02-22\\\\opt_xs_train_logs_epoch_148.json', 'G:/Github/1LLM-Results/results\\\\opt\\\\2025-02-22\\\\opt_xs_train_logs_epoch_149.json', 'G:/Github/1LLM-Results/results\\\\opt\\\\2025-02-22\\\\opt_xs_train_logs_epoch_150.json', 'G:/Github/1LLM-Results/results\\\\opt\\\\2025-02-22\\\\opt_xs_train_logs_epoch_151.json', 'G:/Github/1LLM-Results/results\\\\opt\\\\2025-02-22\\\\opt_xs_train_logs_epoch_152.json', 'G:/Github/1LLM-Results/results\\\\opt\\\\2025-02-22\\\\opt_xs_train_logs_epoch_153.json', 'G:/Github/1LLM-Results/results\\\\opt\\\\2025-02-22\\\\opt_xs_train_logs_epoch_154.json', 'G:/Github/1LLM-Results/results\\\\opt\\\\2025-02-22\\\\opt_xs_train_logs_epoch_155.json', 'G:/Github/1LLM-Results/results\\\\opt\\\\2025-02-22\\\\opt_xs_train_logs_epoch_156.json', 'G:/Github/1LLM-Results/results\\\\opt\\\\2025-02-22\\\\opt_xs_train_logs_epoch_157.json', 'G:/Github/1LLM-Results/results\\\\opt\\\\2025-02-22\\\\opt_xs_train_logs_epoch_158.json', 'G:/Github/1LLM-Results/results\\\\opt\\\\2025-02-22\\\\opt_xs_train_logs_epoch_159.json', 'G:/Github/1LLM-Results/results\\\\opt\\\\2025-02-22\\\\opt_xs_train_logs_epoch_160.json', 'G:/Github/1LLM-Results/results\\\\opt\\\\2025-02-22\\\\opt_xs_train_logs_epoch_161.json', 'G:/Github/1LLM-Results/results\\\\opt\\\\2025-02-22\\\\opt_xs_train_logs_epoch_162.json', 'G:/Github/1LLM-Results/results\\\\opt\\\\2025-02-22\\\\opt_xs_train_logs_epoch_163.json', 'G:/Github/1LLM-Results/results\\\\opt\\\\2025-02-22\\\\opt_xs_train_logs_epoch_164.json', 'G:/Github/1LLM-Results/results\\\\opt\\\\2025-02-22\\\\opt_xs_train_logs_epoch_165.json', 'G:/Github/1LLM-Results/results\\\\opt\\\\2025-02-22\\\\opt_xs_train_logs_epoch_166.json', 'G:/Github/1LLM-Results/results\\\\opt\\\\2025-02-22\\\\opt_xs_train_logs_epoch_167.json', 'G:/Github/1LLM-Results/results\\\\opt\\\\2025-02-22\\\\opt_xs_train_logs_epoch_168.json', 'G:/Github/1LLM-Results/results\\\\opt\\\\2025-02-22\\\\opt_xs_train_logs_epoch_169.json', 'G:/Github/1LLM-Results/results\\\\opt\\\\2025-02-22\\\\opt_xs_train_logs_epoch_170.json', 'G:/Github/1LLM-Results/results\\\\opt\\\\2025-02-22\\\\opt_xs_train_logs_epoch_171.json', 'G:/Github/1LLM-Results/results\\\\opt\\\\2025-02-22\\\\opt_xs_train_logs_epoch_172.json', 'G:/Github/1LLM-Results/results\\\\opt\\\\2025-02-22\\\\opt_xs_train_logs_epoch_173.json', 'G:/Github/1LLM-Results/results\\\\opt\\\\2025-02-22\\\\opt_xs_train_logs_epoch_174.json', 'G:/Github/1LLM-Results/results\\\\opt\\\\2025-02-22\\\\opt_xs_train_logs_epoch_175.json', 'G:/Github/1LLM-Results/results\\\\opt\\\\2025-02-22\\\\opt_xs_train_logs_epoch_176.json', 'G:/Github/1LLM-Results/results\\\\opt\\\\2025-02-22\\\\opt_xs_train_logs_epoch_177.json', 'G:/Github/1LLM-Results/results\\\\opt\\\\2025-02-22\\\\opt_xs_train_logs_epoch_178.json', 'G:/Github/1LLM-Results/results\\\\opt\\\\2025-02-22\\\\opt_xs_train_logs_epoch_179.json', 'G:/Github/1LLM-Results/results\\\\opt\\\\2025-02-22\\\\opt_xs_train_logs_epoch_180.json', 'G:/Github/1LLM-Results/results\\\\opt\\\\2025-02-22\\\\opt_xs_train_logs_epoch_181.json', 'G:/Github/1LLM-Results/results\\\\opt\\\\2025-02-22\\\\opt_xs_train_logs_epoch_182.json', 'G:/Github/1LLM-Results/results\\\\opt\\\\2025-02-22\\\\opt_xs_train_logs_epoch_183.json', 'G:/Github/1LLM-Results/results\\\\opt\\\\2025-02-22\\\\opt_xs_train_logs_epoch_184.json', 'G:/Github/1LLM-Results/results\\\\opt\\\\2025-02-22\\\\opt_xs_train_logs_epoch_185.json', 'G:/Github/1LLM-Results/results\\\\opt\\\\2025-02-22\\\\opt_xs_train_logs_epoch_186.json', 'G:/Github/1LLM-Results/results\\\\opt\\\\2025-02-22\\\\opt_xs_train_logs_epoch_187.json', 'G:/Github/1LLM-Results/results\\\\opt\\\\2025-02-22\\\\opt_xs_train_logs_epoch_188.json', 'G:/Github/1LLM-Results/results\\\\opt\\\\2025-02-22\\\\opt_xs_train_logs_epoch_189.json', 'G:/Github/1LLM-Results/results\\\\opt\\\\2025-02-22\\\\opt_xs_train_logs_epoch_190.json', 'G:/Github/1LLM-Results/results\\\\opt\\\\2025-02-22\\\\opt_xs_train_logs_epoch_191.json', 'G:/Github/1LLM-Results/results\\\\opt\\\\2025-02-22\\\\opt_xs_train_logs_epoch_192.json', 'G:/Github/1LLM-Results/results\\\\opt\\\\2025-02-22\\\\opt_xs_train_logs_epoch_193.json', 'G:/Github/1LLM-Results/results\\\\opt\\\\2025-02-22\\\\opt_xs_train_logs_epoch_194.json', 'G:/Github/1LLM-Results/results\\\\opt\\\\2025-02-22\\\\opt_xs_train_logs_epoch_195.json', 'G:/Github/1LLM-Results/results\\\\opt\\\\2025-02-22\\\\opt_xs_train_logs_epoch_196.json', 'G:/Github/1LLM-Results/results\\\\opt\\\\2025-02-22\\\\opt_xs_train_logs_epoch_197.json', 'G:/Github/1LLM-Results/results\\\\opt\\\\2025-02-22\\\\opt_xs_train_logs_epoch_198.json', 'G:/Github/1LLM-Results/results\\\\opt\\\\2025-02-22\\\\opt_xs_train_logs_epoch_199.json']\n",
      "G:/Github/1LLM-Results/results\\gpt2\n",
      "Training\n",
      "['G:/Github/1LLM-Results/results\\\\gpt2\\\\2025-02-23\\\\gpt2_small_train_logs_epoch_0.json', 'G:/Github/1LLM-Results/results\\\\gpt2\\\\2025-02-23\\\\gpt2_small_train_logs_epoch_1.json', 'G:/Github/1LLM-Results/results\\\\gpt2\\\\2025-02-23\\\\gpt2_small_train_logs_epoch_2.json', 'G:/Github/1LLM-Results/results\\\\gpt2\\\\2025-02-23\\\\gpt2_small_train_logs_epoch_3.json', 'G:/Github/1LLM-Results/results\\\\gpt2\\\\2025-02-23\\\\gpt2_small_train_logs_epoch_4.json', 'G:/Github/1LLM-Results/results\\\\gpt2\\\\2025-02-23\\\\gpt2_small_train_logs_epoch_5.json', 'G:/Github/1LLM-Results/results\\\\gpt2\\\\2025-02-23\\\\gpt2_small_train_logs_epoch_6.json', 'G:/Github/1LLM-Results/results\\\\gpt2\\\\2025-02-23\\\\gpt2_small_train_logs_epoch_7.json', 'G:/Github/1LLM-Results/results\\\\gpt2\\\\2025-02-23\\\\gpt2_small_train_logs_epoch_8.json', 'G:/Github/1LLM-Results/results\\\\gpt2\\\\2025-02-23\\\\gpt2_small_train_logs_epoch_9.json', 'G:/Github/1LLM-Results/results\\\\gpt2\\\\2025-02-23\\\\gpt2_small_train_logs_epoch_10.json', 'G:/Github/1LLM-Results/results\\\\gpt2\\\\2025-02-23\\\\gpt2_small_train_logs_epoch_11.json', 'G:/Github/1LLM-Results/results\\\\gpt2\\\\2025-02-23\\\\gpt2_small_train_logs_epoch_12.json', 'G:/Github/1LLM-Results/results\\\\gpt2\\\\2025-02-23\\\\gpt2_small_train_logs_epoch_13.json', 'G:/Github/1LLM-Results/results\\\\gpt2\\\\2025-02-23\\\\gpt2_small_train_logs_epoch_14.json', 'G:/Github/1LLM-Results/results\\\\gpt2\\\\2025-02-23\\\\gpt2_small_train_logs_epoch_15.json', 'G:/Github/1LLM-Results/results\\\\gpt2\\\\2025-02-23\\\\gpt2_small_train_logs_epoch_16.json', 'G:/Github/1LLM-Results/results\\\\gpt2\\\\2025-02-23\\\\gpt2_small_train_logs_epoch_17.json', 'G:/Github/1LLM-Results/results\\\\gpt2\\\\2025-02-23\\\\gpt2_small_train_logs_epoch_18.json', 'G:/Github/1LLM-Results/results\\\\gpt2\\\\2025-02-23\\\\gpt2_small_train_logs_epoch_19.json', 'G:/Github/1LLM-Results/results\\\\gpt2\\\\2025-02-23\\\\gpt2_small_train_logs_epoch_20.json', 'G:/Github/1LLM-Results/results\\\\gpt2\\\\2025-02-23\\\\gpt2_small_train_logs_epoch_21.json', 'G:/Github/1LLM-Results/results\\\\gpt2\\\\2025-02-23\\\\gpt2_small_train_logs_epoch_22.json', 'G:/Github/1LLM-Results/results\\\\gpt2\\\\2025-02-23\\\\gpt2_small_train_logs_epoch_23.json', 'G:/Github/1LLM-Results/results\\\\gpt2\\\\2025-02-23\\\\gpt2_small_train_logs_epoch_24.json', 'G:/Github/1LLM-Results/results\\\\gpt2\\\\2025-02-23\\\\gpt2_small_train_logs_epoch_25.json', 'G:/Github/1LLM-Results/results\\\\gpt2\\\\2025-02-23\\\\gpt2_small_train_logs_epoch_26.json', 'G:/Github/1LLM-Results/results\\\\gpt2\\\\2025-02-23\\\\gpt2_small_train_logs_epoch_27.json', 'G:/Github/1LLM-Results/results\\\\gpt2\\\\2025-02-23\\\\gpt2_small_train_logs_epoch_28.json', 'G:/Github/1LLM-Results/results\\\\gpt2\\\\2025-02-23\\\\gpt2_small_train_logs_epoch_29.json', 'G:/Github/1LLM-Results/results\\\\gpt2\\\\2025-02-23\\\\gpt2_small_train_logs_epoch_30.json', 'G:/Github/1LLM-Results/results\\\\gpt2\\\\2025-02-23\\\\gpt2_small_train_logs_epoch_31.json', 'G:/Github/1LLM-Results/results\\\\gpt2\\\\2025-02-23\\\\gpt2_small_train_logs_epoch_32.json', 'G:/Github/1LLM-Results/results\\\\gpt2\\\\2025-02-23\\\\gpt2_small_train_logs_epoch_33.json', 'G:/Github/1LLM-Results/results\\\\gpt2\\\\2025-02-23\\\\gpt2_small_train_logs_epoch_34.json', 'G:/Github/1LLM-Results/results\\\\gpt2\\\\2025-02-23\\\\gpt2_small_train_logs_epoch_35.json', 'G:/Github/1LLM-Results/results\\\\gpt2\\\\2025-02-23\\\\gpt2_small_train_logs_epoch_36.json', 'G:/Github/1LLM-Results/results\\\\gpt2\\\\2025-02-23\\\\gpt2_small_train_logs_epoch_37.json', 'G:/Github/1LLM-Results/results\\\\gpt2\\\\2025-02-23\\\\gpt2_small_train_logs_epoch_38.json', 'G:/Github/1LLM-Results/results\\\\gpt2\\\\2025-02-23\\\\gpt2_small_train_logs_epoch_39.json', 'G:/Github/1LLM-Results/results\\\\gpt2\\\\2025-02-23\\\\gpt2_small_train_logs_epoch_40.json', 'G:/Github/1LLM-Results/results\\\\gpt2\\\\2025-02-23\\\\gpt2_small_train_logs_epoch_41.json', 'G:/Github/1LLM-Results/results\\\\gpt2\\\\2025-02-23\\\\gpt2_small_train_logs_epoch_42.json', 'G:/Github/1LLM-Results/results\\\\gpt2\\\\2025-02-23\\\\gpt2_small_train_logs_epoch_43.json', 'G:/Github/1LLM-Results/results\\\\gpt2\\\\2025-02-23\\\\gpt2_small_train_logs_epoch_44.json', 'G:/Github/1LLM-Results/results\\\\gpt2\\\\2025-02-23\\\\gpt2_small_train_logs_epoch_45.json', 'G:/Github/1LLM-Results/results\\\\gpt2\\\\2025-02-23\\\\gpt2_small_train_logs_epoch_46.json', 'G:/Github/1LLM-Results/results\\\\gpt2\\\\2025-02-23\\\\gpt2_small_train_logs_epoch_47.json', 'G:/Github/1LLM-Results/results\\\\gpt2\\\\2025-02-23\\\\gpt2_small_train_logs_epoch_48.json', 'G:/Github/1LLM-Results/results\\\\gpt2\\\\2025-02-23\\\\gpt2_small_train_logs_epoch_49.json', 'G:/Github/1LLM-Results/results\\\\gpt2\\\\2025-02-23\\\\gpt2_small_train_logs_epoch_50.json', 'G:/Github/1LLM-Results/results\\\\gpt2\\\\2025-02-23\\\\gpt2_small_train_logs_epoch_51.json', 'G:/Github/1LLM-Results/results\\\\gpt2\\\\2025-02-23\\\\gpt2_small_train_logs_epoch_52.json', 'G:/Github/1LLM-Results/results\\\\gpt2\\\\2025-02-23\\\\gpt2_small_train_logs_epoch_53.json', 'G:/Github/1LLM-Results/results\\\\gpt2\\\\2025-02-23\\\\gpt2_small_train_logs_epoch_54.json', 'G:/Github/1LLM-Results/results\\\\gpt2\\\\2025-02-23\\\\gpt2_small_train_logs_epoch_55.json', 'G:/Github/1LLM-Results/results\\\\gpt2\\\\2025-02-23\\\\gpt2_small_train_logs_epoch_56.json', 'G:/Github/1LLM-Results/results\\\\gpt2\\\\2025-02-23\\\\gpt2_small_train_logs_epoch_57.json', 'G:/Github/1LLM-Results/results\\\\gpt2\\\\2025-02-23\\\\gpt2_small_train_logs_epoch_58.json', 'G:/Github/1LLM-Results/results\\\\gpt2\\\\2025-02-23\\\\gpt2_small_train_logs_epoch_59.json', 'G:/Github/1LLM-Results/results\\\\gpt2\\\\2025-02-23\\\\gpt2_small_train_logs_epoch_60.json', 'G:/Github/1LLM-Results/results\\\\gpt2\\\\2025-02-23\\\\gpt2_small_train_logs_epoch_61.json', 'G:/Github/1LLM-Results/results\\\\gpt2\\\\2025-02-23\\\\gpt2_small_train_logs_epoch_62.json', 'G:/Github/1LLM-Results/results\\\\gpt2\\\\2025-02-23\\\\gpt2_small_train_logs_epoch_63.json', 'G:/Github/1LLM-Results/results\\\\gpt2\\\\2025-02-23\\\\gpt2_small_train_logs_epoch_64.json', 'G:/Github/1LLM-Results/results\\\\gpt2\\\\2025-02-23\\\\gpt2_small_train_logs_epoch_65.json', 'G:/Github/1LLM-Results/results\\\\gpt2\\\\2025-02-23\\\\gpt2_small_train_logs_epoch_66.json', 'G:/Github/1LLM-Results/results\\\\gpt2\\\\2025-02-23\\\\gpt2_small_train_logs_epoch_67.json', 'G:/Github/1LLM-Results/results\\\\gpt2\\\\2025-02-23\\\\gpt2_small_train_logs_epoch_68.json', 'G:/Github/1LLM-Results/results\\\\gpt2\\\\2025-02-23\\\\gpt2_small_train_logs_epoch_69.json', 'G:/Github/1LLM-Results/results\\\\gpt2\\\\2025-02-23\\\\gpt2_small_train_logs_epoch_70.json', 'G:/Github/1LLM-Results/results\\\\gpt2\\\\2025-02-23\\\\gpt2_small_train_logs_epoch_71.json', 'G:/Github/1LLM-Results/results\\\\gpt2\\\\2025-02-23\\\\gpt2_small_train_logs_epoch_72.json', 'G:/Github/1LLM-Results/results\\\\gpt2\\\\2025-02-23\\\\gpt2_small_train_logs_epoch_73.json', 'G:/Github/1LLM-Results/results\\\\gpt2\\\\2025-02-23\\\\gpt2_small_train_logs_epoch_74.json', 'G:/Github/1LLM-Results/results\\\\gpt2\\\\2025-02-23\\\\gpt2_small_train_logs_epoch_75.json', 'G:/Github/1LLM-Results/results\\\\gpt2\\\\2025-02-23\\\\gpt2_small_train_logs_epoch_76.json', 'G:/Github/1LLM-Results/results\\\\gpt2\\\\2025-02-23\\\\gpt2_small_train_logs_epoch_77.json', 'G:/Github/1LLM-Results/results\\\\gpt2\\\\2025-02-23\\\\gpt2_small_train_logs_epoch_78.json', 'G:/Github/1LLM-Results/results\\\\gpt2\\\\2025-02-23\\\\gpt2_small_train_logs_epoch_79.json', 'G:/Github/1LLM-Results/results\\\\gpt2\\\\2025-02-23\\\\gpt2_small_train_logs_epoch_80.json', 'G:/Github/1LLM-Results/results\\\\gpt2\\\\2025-02-23\\\\gpt2_small_train_logs_epoch_81.json', 'G:/Github/1LLM-Results/results\\\\gpt2\\\\2025-02-23\\\\gpt2_small_train_logs_epoch_82.json', 'G:/Github/1LLM-Results/results\\\\gpt2\\\\2025-02-23\\\\gpt2_small_train_logs_epoch_83.json', 'G:/Github/1LLM-Results/results\\\\gpt2\\\\2025-02-23\\\\gpt2_small_train_logs_epoch_84.json', 'G:/Github/1LLM-Results/results\\\\gpt2\\\\2025-02-23\\\\gpt2_small_train_logs_epoch_85.json', 'G:/Github/1LLM-Results/results\\\\gpt2\\\\2025-02-23\\\\gpt2_small_train_logs_epoch_86.json', 'G:/Github/1LLM-Results/results\\\\gpt2\\\\2025-02-23\\\\gpt2_small_train_logs_epoch_87.json', 'G:/Github/1LLM-Results/results\\\\gpt2\\\\2025-02-23\\\\gpt2_small_train_logs_epoch_88.json', 'G:/Github/1LLM-Results/results\\\\gpt2\\\\2025-02-23\\\\gpt2_small_train_logs_epoch_89.json', 'G:/Github/1LLM-Results/results\\\\gpt2\\\\2025-02-23\\\\gpt2_small_train_logs_epoch_90.json', 'G:/Github/1LLM-Results/results\\\\gpt2\\\\2025-02-23\\\\gpt2_small_train_logs_epoch_91.json', 'G:/Github/1LLM-Results/results\\\\gpt2\\\\2025-02-23\\\\gpt2_small_train_logs_epoch_92.json', 'G:/Github/1LLM-Results/results\\\\gpt2\\\\2025-02-23\\\\gpt2_small_train_logs_epoch_93.json', 'G:/Github/1LLM-Results/results\\\\gpt2\\\\2025-02-23\\\\gpt2_small_train_logs_epoch_94.json', 'G:/Github/1LLM-Results/results\\\\gpt2\\\\2025-02-23\\\\gpt2_small_train_logs_epoch_95.json', 'G:/Github/1LLM-Results/results\\\\gpt2\\\\2025-02-23\\\\gpt2_small_train_logs_epoch_96.json', 'G:/Github/1LLM-Results/results\\\\gpt2\\\\2025-02-23\\\\gpt2_small_train_logs_epoch_97.json', 'G:/Github/1LLM-Results/results\\\\gpt2\\\\2025-02-23\\\\gpt2_small_train_logs_epoch_98.json', 'G:/Github/1LLM-Results/results\\\\gpt2\\\\2025-02-23\\\\gpt2_small_train_logs_epoch_99.json', 'G:/Github/1LLM-Results/results\\\\gpt2\\\\2025-02-23\\\\gpt2_small_train_logs_epoch_100.json', 'G:/Github/1LLM-Results/results\\\\gpt2\\\\2025-02-23\\\\gpt2_small_train_logs_epoch_101.json', 'G:/Github/1LLM-Results/results\\\\gpt2\\\\2025-02-23\\\\gpt2_small_train_logs_epoch_102.json', 'G:/Github/1LLM-Results/results\\\\gpt2\\\\2025-02-23\\\\gpt2_small_train_logs_epoch_103.json', 'G:/Github/1LLM-Results/results\\\\gpt2\\\\2025-02-23\\\\gpt2_small_train_logs_epoch_104.json', 'G:/Github/1LLM-Results/results\\\\gpt2\\\\2025-02-23\\\\gpt2_small_train_logs_epoch_105.json', 'G:/Github/1LLM-Results/results\\\\gpt2\\\\2025-02-23\\\\gpt2_small_train_logs_epoch_106.json', 'G:/Github/1LLM-Results/results\\\\gpt2\\\\2025-02-23\\\\gpt2_small_train_logs_epoch_107.json', 'G:/Github/1LLM-Results/results\\\\gpt2\\\\2025-02-23\\\\gpt2_small_train_logs_epoch_108.json', 'G:/Github/1LLM-Results/results\\\\gpt2\\\\2025-02-23\\\\gpt2_small_train_logs_epoch_109.json', 'G:/Github/1LLM-Results/results\\\\gpt2\\\\2025-02-23\\\\gpt2_small_train_logs_epoch_110.json', 'G:/Github/1LLM-Results/results\\\\gpt2\\\\2025-02-23\\\\gpt2_small_train_logs_epoch_111.json', 'G:/Github/1LLM-Results/results\\\\gpt2\\\\2025-02-23\\\\gpt2_small_train_logs_epoch_112.json', 'G:/Github/1LLM-Results/results\\\\gpt2\\\\2025-02-23\\\\gpt2_small_train_logs_epoch_113.json', 'G:/Github/1LLM-Results/results\\\\gpt2\\\\2025-02-23\\\\gpt2_small_train_logs_epoch_114.json', 'G:/Github/1LLM-Results/results\\\\gpt2\\\\2025-02-23\\\\gpt2_small_train_logs_epoch_115.json', 'G:/Github/1LLM-Results/results\\\\gpt2\\\\2025-02-23\\\\gpt2_small_train_logs_epoch_116.json', 'G:/Github/1LLM-Results/results\\\\gpt2\\\\2025-02-23\\\\gpt2_small_train_logs_epoch_117.json', 'G:/Github/1LLM-Results/results\\\\gpt2\\\\2025-02-23\\\\gpt2_small_train_logs_epoch_118.json', 'G:/Github/1LLM-Results/results\\\\gpt2\\\\2025-02-23\\\\gpt2_small_train_logs_epoch_119.json', 'G:/Github/1LLM-Results/results\\\\gpt2\\\\2025-02-23\\\\gpt2_small_train_logs_epoch_120.json', 'G:/Github/1LLM-Results/results\\\\gpt2\\\\2025-02-23\\\\gpt2_small_train_logs_epoch_121.json', 'G:/Github/1LLM-Results/results\\\\gpt2\\\\2025-02-23\\\\gpt2_small_train_logs_epoch_122.json', 'G:/Github/1LLM-Results/results\\\\gpt2\\\\2025-02-23\\\\gpt2_small_train_logs_epoch_123.json', 'G:/Github/1LLM-Results/results\\\\gpt2\\\\2025-02-23\\\\gpt2_small_train_logs_epoch_124.json', 'G:/Github/1LLM-Results/results\\\\gpt2\\\\2025-02-23\\\\gpt2_small_train_logs_epoch_125.json', 'G:/Github/1LLM-Results/results\\\\gpt2\\\\2025-02-23\\\\gpt2_small_train_logs_epoch_126.json', 'G:/Github/1LLM-Results/results\\\\gpt2\\\\2025-02-23\\\\gpt2_small_train_logs_epoch_127.json', 'G:/Github/1LLM-Results/results\\\\gpt2\\\\2025-02-23\\\\gpt2_small_train_logs_epoch_128.json', 'G:/Github/1LLM-Results/results\\\\gpt2\\\\2025-02-23\\\\gpt2_small_train_logs_epoch_129.json', 'G:/Github/1LLM-Results/results\\\\gpt2\\\\2025-02-23\\\\gpt2_small_train_logs_epoch_130.json', 'G:/Github/1LLM-Results/results\\\\gpt2\\\\2025-02-23\\\\gpt2_small_train_logs_epoch_131.json', 'G:/Github/1LLM-Results/results\\\\gpt2\\\\2025-02-23\\\\gpt2_small_train_logs_epoch_132.json', 'G:/Github/1LLM-Results/results\\\\gpt2\\\\2025-02-23\\\\gpt2_small_train_logs_epoch_133.json', 'G:/Github/1LLM-Results/results\\\\gpt2\\\\2025-02-23\\\\gpt2_small_train_logs_epoch_134.json', 'G:/Github/1LLM-Results/results\\\\gpt2\\\\2025-02-23\\\\gpt2_small_train_logs_epoch_135.json', 'G:/Github/1LLM-Results/results\\\\gpt2\\\\2025-02-23\\\\gpt2_small_train_logs_epoch_136.json', 'G:/Github/1LLM-Results/results\\\\gpt2\\\\2025-02-23\\\\gpt2_small_train_logs_epoch_137.json', 'G:/Github/1LLM-Results/results\\\\gpt2\\\\2025-02-23\\\\gpt2_small_train_logs_epoch_138.json', 'G:/Github/1LLM-Results/results\\\\gpt2\\\\2025-02-23\\\\gpt2_small_train_logs_epoch_139.json', 'G:/Github/1LLM-Results/results\\\\gpt2\\\\2025-02-23\\\\gpt2_small_train_logs_epoch_140.json', 'G:/Github/1LLM-Results/results\\\\gpt2\\\\2025-02-23\\\\gpt2_small_train_logs_epoch_141.json', 'G:/Github/1LLM-Results/results\\\\gpt2\\\\2025-02-23\\\\gpt2_small_train_logs_epoch_142.json', 'G:/Github/1LLM-Results/results\\\\gpt2\\\\2025-02-23\\\\gpt2_small_train_logs_epoch_143.json', 'G:/Github/1LLM-Results/results\\\\gpt2\\\\2025-02-23\\\\gpt2_small_train_logs_epoch_144.json', 'G:/Github/1LLM-Results/results\\\\gpt2\\\\2025-02-23\\\\gpt2_small_train_logs_epoch_145.json', 'G:/Github/1LLM-Results/results\\\\gpt2\\\\2025-02-23\\\\gpt2_small_train_logs_epoch_146.json', 'G:/Github/1LLM-Results/results\\\\gpt2\\\\2025-02-23\\\\gpt2_small_train_logs_epoch_147.json', 'G:/Github/1LLM-Results/results\\\\gpt2\\\\2025-02-23\\\\gpt2_small_train_logs_epoch_148.json', 'G:/Github/1LLM-Results/results\\\\gpt2\\\\2025-02-23\\\\gpt2_small_train_logs_epoch_149.json', 'G:/Github/1LLM-Results/results\\\\gpt2\\\\2025-02-23\\\\gpt2_small_train_logs_epoch_150.json', 'G:/Github/1LLM-Results/results\\\\gpt2\\\\2025-02-23\\\\gpt2_small_train_logs_epoch_151.json', 'G:/Github/1LLM-Results/results\\\\gpt2\\\\2025-02-23\\\\gpt2_small_train_logs_epoch_152.json', 'G:/Github/1LLM-Results/results\\\\gpt2\\\\2025-02-23\\\\gpt2_small_train_logs_epoch_153.json', 'G:/Github/1LLM-Results/results\\\\gpt2\\\\2025-02-23\\\\gpt2_small_train_logs_epoch_154.json', 'G:/Github/1LLM-Results/results\\\\gpt2\\\\2025-02-23\\\\gpt2_small_train_logs_epoch_155.json', 'G:/Github/1LLM-Results/results\\\\gpt2\\\\2025-02-23\\\\gpt2_small_train_logs_epoch_156.json', 'G:/Github/1LLM-Results/results\\\\gpt2\\\\2025-02-23\\\\gpt2_small_train_logs_epoch_157.json', 'G:/Github/1LLM-Results/results\\\\gpt2\\\\2025-02-23\\\\gpt2_small_train_logs_epoch_158.json', 'G:/Github/1LLM-Results/results\\\\gpt2\\\\2025-02-23\\\\gpt2_small_train_logs_epoch_159.json', 'G:/Github/1LLM-Results/results\\\\gpt2\\\\2025-02-23\\\\gpt2_small_train_logs_epoch_160.json', 'G:/Github/1LLM-Results/results\\\\gpt2\\\\2025-02-23\\\\gpt2_small_train_logs_epoch_161.json', 'G:/Github/1LLM-Results/results\\\\gpt2\\\\2025-02-23\\\\gpt2_small_train_logs_epoch_162.json', 'G:/Github/1LLM-Results/results\\\\gpt2\\\\2025-02-23\\\\gpt2_small_train_logs_epoch_163.json', 'G:/Github/1LLM-Results/results\\\\gpt2\\\\2025-02-23\\\\gpt2_small_train_logs_epoch_164.json', 'G:/Github/1LLM-Results/results\\\\gpt2\\\\2025-02-23\\\\gpt2_small_train_logs_epoch_165.json', 'G:/Github/1LLM-Results/results\\\\gpt2\\\\2025-02-23\\\\gpt2_small_train_logs_epoch_166.json', 'G:/Github/1LLM-Results/results\\\\gpt2\\\\2025-02-23\\\\gpt2_small_train_logs_epoch_167.json', 'G:/Github/1LLM-Results/results\\\\gpt2\\\\2025-02-23\\\\gpt2_small_train_logs_epoch_168.json', 'G:/Github/1LLM-Results/results\\\\gpt2\\\\2025-02-23\\\\gpt2_small_train_logs_epoch_169.json', 'G:/Github/1LLM-Results/results\\\\gpt2\\\\2025-02-23\\\\gpt2_small_train_logs_epoch_170.json', 'G:/Github/1LLM-Results/results\\\\gpt2\\\\2025-02-23\\\\gpt2_small_train_logs_epoch_171.json', 'G:/Github/1LLM-Results/results\\\\gpt2\\\\2025-02-23\\\\gpt2_small_train_logs_epoch_172.json', 'G:/Github/1LLM-Results/results\\\\gpt2\\\\2025-02-23\\\\gpt2_small_train_logs_epoch_173.json', 'G:/Github/1LLM-Results/results\\\\gpt2\\\\2025-02-23\\\\gpt2_small_train_logs_epoch_174.json', 'G:/Github/1LLM-Results/results\\\\gpt2\\\\2025-02-23\\\\gpt2_small_train_logs_epoch_175.json', 'G:/Github/1LLM-Results/results\\\\gpt2\\\\2025-02-23\\\\gpt2_small_train_logs_epoch_176.json', 'G:/Github/1LLM-Results/results\\\\gpt2\\\\2025-02-23\\\\gpt2_small_train_logs_epoch_177.json', 'G:/Github/1LLM-Results/results\\\\gpt2\\\\2025-02-23\\\\gpt2_small_train_logs_epoch_178.json', 'G:/Github/1LLM-Results/results\\\\gpt2\\\\2025-02-23\\\\gpt2_small_train_logs_epoch_179.json', 'G:/Github/1LLM-Results/results\\\\gpt2\\\\2025-02-23\\\\gpt2_small_train_logs_epoch_180.json', 'G:/Github/1LLM-Results/results\\\\gpt2\\\\2025-02-23\\\\gpt2_small_train_logs_epoch_181.json', 'G:/Github/1LLM-Results/results\\\\gpt2\\\\2025-02-23\\\\gpt2_small_train_logs_epoch_182.json', 'G:/Github/1LLM-Results/results\\\\gpt2\\\\2025-02-23\\\\gpt2_small_train_logs_epoch_183.json', 'G:/Github/1LLM-Results/results\\\\gpt2\\\\2025-02-23\\\\gpt2_small_train_logs_epoch_184.json', 'G:/Github/1LLM-Results/results\\\\gpt2\\\\2025-02-23\\\\gpt2_small_train_logs_epoch_185.json', 'G:/Github/1LLM-Results/results\\\\gpt2\\\\2025-02-23\\\\gpt2_small_train_logs_epoch_186.json', 'G:/Github/1LLM-Results/results\\\\gpt2\\\\2025-02-23\\\\gpt2_small_train_logs_epoch_187.json', 'G:/Github/1LLM-Results/results\\\\gpt2\\\\2025-02-23\\\\gpt2_small_train_logs_epoch_188.json', 'G:/Github/1LLM-Results/results\\\\gpt2\\\\2025-02-23\\\\gpt2_small_train_logs_epoch_189.json', 'G:/Github/1LLM-Results/results\\\\gpt2\\\\2025-02-23\\\\gpt2_small_train_logs_epoch_190.json', 'G:/Github/1LLM-Results/results\\\\gpt2\\\\2025-02-23\\\\gpt2_small_train_logs_epoch_191.json', 'G:/Github/1LLM-Results/results\\\\gpt2\\\\2025-02-23\\\\gpt2_small_train_logs_epoch_192.json', 'G:/Github/1LLM-Results/results\\\\gpt2\\\\2025-02-23\\\\gpt2_small_train_logs_epoch_193.json', 'G:/Github/1LLM-Results/results\\\\gpt2\\\\2025-02-23\\\\gpt2_small_train_logs_epoch_194.json', 'G:/Github/1LLM-Results/results\\\\gpt2\\\\2025-02-23\\\\gpt2_small_train_logs_epoch_195.json', 'G:/Github/1LLM-Results/results\\\\gpt2\\\\2025-02-23\\\\gpt2_small_train_logs_epoch_196.json', 'G:/Github/1LLM-Results/results\\\\gpt2\\\\2025-02-23\\\\gpt2_small_train_logs_epoch_197.json', 'G:/Github/1LLM-Results/results\\\\gpt2\\\\2025-02-23\\\\gpt2_small_train_logs_epoch_198.json', 'G:/Github/1LLM-Results/results\\\\gpt2\\\\2025-02-23\\\\gpt2_small_train_logs_epoch_199.json']\n",
      "G:/Github/1LLM-Results/results\\t5\n",
      "Training\n",
      "['G:/Github/1LLM-Results/results\\\\t5\\\\2025-02-23\\\\t5_base_train_logs_epoch_0.json', 'G:/Github/1LLM-Results/results\\\\t5\\\\2025-02-23\\\\t5_base_train_logs_epoch_1.json', 'G:/Github/1LLM-Results/results\\\\t5\\\\2025-02-23\\\\t5_base_train_logs_epoch_2.json', 'G:/Github/1LLM-Results/results\\\\t5\\\\2025-02-23\\\\t5_base_train_logs_epoch_3.json', 'G:/Github/1LLM-Results/results\\\\t5\\\\2025-02-23\\\\t5_base_train_logs_epoch_4.json', 'G:/Github/1LLM-Results/results\\\\t5\\\\2025-02-23\\\\t5_base_train_logs_epoch_5.json', 'G:/Github/1LLM-Results/results\\\\t5\\\\2025-02-23\\\\t5_base_train_logs_epoch_6.json', 'G:/Github/1LLM-Results/results\\\\t5\\\\2025-02-23\\\\t5_base_train_logs_epoch_7.json', 'G:/Github/1LLM-Results/results\\\\t5\\\\2025-02-23\\\\t5_base_train_logs_epoch_8.json', 'G:/Github/1LLM-Results/results\\\\t5\\\\2025-02-23\\\\t5_base_train_logs_epoch_9.json', 'G:/Github/1LLM-Results/results\\\\t5\\\\2025-02-23\\\\t5_base_train_logs_epoch_10.json', 'G:/Github/1LLM-Results/results\\\\t5\\\\2025-02-23\\\\t5_base_train_logs_epoch_11.json', 'G:/Github/1LLM-Results/results\\\\t5\\\\2025-02-23\\\\t5_base_train_logs_epoch_12.json', 'G:/Github/1LLM-Results/results\\\\t5\\\\2025-02-23\\\\t5_base_train_logs_epoch_13.json', 'G:/Github/1LLM-Results/results\\\\t5\\\\2025-02-23\\\\t5_base_train_logs_epoch_14.json', 'G:/Github/1LLM-Results/results\\\\t5\\\\2025-02-23\\\\t5_base_train_logs_epoch_15.json', 'G:/Github/1LLM-Results/results\\\\t5\\\\2025-02-23\\\\t5_base_train_logs_epoch_16.json', 'G:/Github/1LLM-Results/results\\\\t5\\\\2025-02-23\\\\t5_base_train_logs_epoch_17.json', 'G:/Github/1LLM-Results/results\\\\t5\\\\2025-02-23\\\\t5_base_train_logs_epoch_18.json', 'G:/Github/1LLM-Results/results\\\\t5\\\\2025-02-23\\\\t5_base_train_logs_epoch_19.json', 'G:/Github/1LLM-Results/results\\\\t5\\\\2025-02-23\\\\t5_base_train_logs_epoch_20.json', 'G:/Github/1LLM-Results/results\\\\t5\\\\2025-02-23\\\\t5_base_train_logs_epoch_21.json', 'G:/Github/1LLM-Results/results\\\\t5\\\\2025-02-23\\\\t5_base_train_logs_epoch_22.json', 'G:/Github/1LLM-Results/results\\\\t5\\\\2025-02-23\\\\t5_base_train_logs_epoch_23.json', 'G:/Github/1LLM-Results/results\\\\t5\\\\2025-02-23\\\\t5_base_train_logs_epoch_24.json', 'G:/Github/1LLM-Results/results\\\\t5\\\\2025-02-23\\\\t5_base_train_logs_epoch_25.json', 'G:/Github/1LLM-Results/results\\\\t5\\\\2025-02-23\\\\t5_base_train_logs_epoch_26.json', 'G:/Github/1LLM-Results/results\\\\t5\\\\2025-02-23\\\\t5_base_train_logs_epoch_27.json', 'G:/Github/1LLM-Results/results\\\\t5\\\\2025-02-23\\\\t5_base_train_logs_epoch_28.json', 'G:/Github/1LLM-Results/results\\\\t5\\\\2025-02-23\\\\t5_base_train_logs_epoch_29.json', 'G:/Github/1LLM-Results/results\\\\t5\\\\2025-02-23\\\\t5_base_train_logs_epoch_30.json', 'G:/Github/1LLM-Results/results\\\\t5\\\\2025-02-23\\\\t5_base_train_logs_epoch_31.json', 'G:/Github/1LLM-Results/results\\\\t5\\\\2025-02-23\\\\t5_base_train_logs_epoch_32.json', 'G:/Github/1LLM-Results/results\\\\t5\\\\2025-02-23\\\\t5_base_train_logs_epoch_33.json', 'G:/Github/1LLM-Results/results\\\\t5\\\\2025-02-23\\\\t5_base_train_logs_epoch_34.json', 'G:/Github/1LLM-Results/results\\\\t5\\\\2025-02-23\\\\t5_base_train_logs_epoch_35.json', 'G:/Github/1LLM-Results/results\\\\t5\\\\2025-02-23\\\\t5_base_train_logs_epoch_36.json', 'G:/Github/1LLM-Results/results\\\\t5\\\\2025-02-23\\\\t5_base_train_logs_epoch_37.json', 'G:/Github/1LLM-Results/results\\\\t5\\\\2025-02-23\\\\t5_base_train_logs_epoch_38.json', 'G:/Github/1LLM-Results/results\\\\t5\\\\2025-02-23\\\\t5_base_train_logs_epoch_39.json', 'G:/Github/1LLM-Results/results\\\\t5\\\\2025-02-23\\\\t5_base_train_logs_epoch_40.json', 'G:/Github/1LLM-Results/results\\\\t5\\\\2025-02-23\\\\t5_base_train_logs_epoch_41.json', 'G:/Github/1LLM-Results/results\\\\t5\\\\2025-02-23\\\\t5_base_train_logs_epoch_42.json', 'G:/Github/1LLM-Results/results\\\\t5\\\\2025-02-23\\\\t5_base_train_logs_epoch_43.json', 'G:/Github/1LLM-Results/results\\\\t5\\\\2025-02-23\\\\t5_base_train_logs_epoch_44.json', 'G:/Github/1LLM-Results/results\\\\t5\\\\2025-02-23\\\\t5_base_train_logs_epoch_45.json', 'G:/Github/1LLM-Results/results\\\\t5\\\\2025-02-23\\\\t5_base_train_logs_epoch_46.json', 'G:/Github/1LLM-Results/results\\\\t5\\\\2025-02-23\\\\t5_base_train_logs_epoch_47.json', 'G:/Github/1LLM-Results/results\\\\t5\\\\2025-02-23\\\\t5_base_train_logs_epoch_48.json', 'G:/Github/1LLM-Results/results\\\\t5\\\\2025-02-23\\\\t5_base_train_logs_epoch_49.json', 'G:/Github/1LLM-Results/results\\\\t5\\\\2025-02-23\\\\t5_base_train_logs_epoch_50.json', 'G:/Github/1LLM-Results/results\\\\t5\\\\2025-02-23\\\\t5_base_train_logs_epoch_51.json', 'G:/Github/1LLM-Results/results\\\\t5\\\\2025-02-23\\\\t5_base_train_logs_epoch_52.json', 'G:/Github/1LLM-Results/results\\\\t5\\\\2025-02-23\\\\t5_base_train_logs_epoch_53.json', 'G:/Github/1LLM-Results/results\\\\t5\\\\2025-02-23\\\\t5_base_train_logs_epoch_54.json', 'G:/Github/1LLM-Results/results\\\\t5\\\\2025-02-23\\\\t5_base_train_logs_epoch_55.json', 'G:/Github/1LLM-Results/results\\\\t5\\\\2025-02-23\\\\t5_base_train_logs_epoch_56.json', 'G:/Github/1LLM-Results/results\\\\t5\\\\2025-02-23\\\\t5_base_train_logs_epoch_57.json', 'G:/Github/1LLM-Results/results\\\\t5\\\\2025-02-23\\\\t5_base_train_logs_epoch_58.json', 'G:/Github/1LLM-Results/results\\\\t5\\\\2025-02-23\\\\t5_base_train_logs_epoch_59.json', 'G:/Github/1LLM-Results/results\\\\t5\\\\2025-02-23\\\\t5_base_train_logs_epoch_60.json', 'G:/Github/1LLM-Results/results\\\\t5\\\\2025-02-23\\\\t5_base_train_logs_epoch_61.json', 'G:/Github/1LLM-Results/results\\\\t5\\\\2025-02-23\\\\t5_base_train_logs_epoch_62.json', 'G:/Github/1LLM-Results/results\\\\t5\\\\2025-02-23\\\\t5_base_train_logs_epoch_63.json', 'G:/Github/1LLM-Results/results\\\\t5\\\\2025-02-23\\\\t5_base_train_logs_epoch_64.json', 'G:/Github/1LLM-Results/results\\\\t5\\\\2025-02-23\\\\t5_base_train_logs_epoch_65.json', 'G:/Github/1LLM-Results/results\\\\t5\\\\2025-02-23\\\\t5_base_train_logs_epoch_66.json', 'G:/Github/1LLM-Results/results\\\\t5\\\\2025-02-23\\\\t5_base_train_logs_epoch_67.json', 'G:/Github/1LLM-Results/results\\\\t5\\\\2025-02-23\\\\t5_base_train_logs_epoch_68.json', 'G:/Github/1LLM-Results/results\\\\t5\\\\2025-02-23\\\\t5_base_train_logs_epoch_69.json', 'G:/Github/1LLM-Results/results\\\\t5\\\\2025-02-23\\\\t5_base_train_logs_epoch_70.json', 'G:/Github/1LLM-Results/results\\\\t5\\\\2025-02-23\\\\t5_base_train_logs_epoch_71.json', 'G:/Github/1LLM-Results/results\\\\t5\\\\2025-02-23\\\\t5_base_train_logs_epoch_72.json', 'G:/Github/1LLM-Results/results\\\\t5\\\\2025-02-23\\\\t5_base_train_logs_epoch_73.json', 'G:/Github/1LLM-Results/results\\\\t5\\\\2025-02-23\\\\t5_base_train_logs_epoch_74.json', 'G:/Github/1LLM-Results/results\\\\t5\\\\2025-02-23\\\\t5_base_train_logs_epoch_75.json', 'G:/Github/1LLM-Results/results\\\\t5\\\\2025-02-23\\\\t5_base_train_logs_epoch_76.json', 'G:/Github/1LLM-Results/results\\\\t5\\\\2025-02-23\\\\t5_base_train_logs_epoch_77.json', 'G:/Github/1LLM-Results/results\\\\t5\\\\2025-02-23\\\\t5_base_train_logs_epoch_78.json', 'G:/Github/1LLM-Results/results\\\\t5\\\\2025-02-23\\\\t5_base_train_logs_epoch_79.json', 'G:/Github/1LLM-Results/results\\\\t5\\\\2025-02-23\\\\t5_base_train_logs_epoch_80.json', 'G:/Github/1LLM-Results/results\\\\t5\\\\2025-02-23\\\\t5_base_train_logs_epoch_81.json', 'G:/Github/1LLM-Results/results\\\\t5\\\\2025-02-23\\\\t5_base_train_logs_epoch_82.json', 'G:/Github/1LLM-Results/results\\\\t5\\\\2025-02-23\\\\t5_base_train_logs_epoch_83.json', 'G:/Github/1LLM-Results/results\\\\t5\\\\2025-02-23\\\\t5_base_train_logs_epoch_84.json', 'G:/Github/1LLM-Results/results\\\\t5\\\\2025-02-23\\\\t5_base_train_logs_epoch_85.json', 'G:/Github/1LLM-Results/results\\\\t5\\\\2025-02-23\\\\t5_base_train_logs_epoch_86.json', 'G:/Github/1LLM-Results/results\\\\t5\\\\2025-02-23\\\\t5_base_train_logs_epoch_87.json', 'G:/Github/1LLM-Results/results\\\\t5\\\\2025-02-23\\\\t5_base_train_logs_epoch_88.json', 'G:/Github/1LLM-Results/results\\\\t5\\\\2025-02-23\\\\t5_base_train_logs_epoch_89.json', 'G:/Github/1LLM-Results/results\\\\t5\\\\2025-02-23\\\\t5_base_train_logs_epoch_90.json', 'G:/Github/1LLM-Results/results\\\\t5\\\\2025-02-23\\\\t5_base_train_logs_epoch_91.json', 'G:/Github/1LLM-Results/results\\\\t5\\\\2025-02-23\\\\t5_base_train_logs_epoch_92.json', 'G:/Github/1LLM-Results/results\\\\t5\\\\2025-02-23\\\\t5_base_train_logs_epoch_93.json', 'G:/Github/1LLM-Results/results\\\\t5\\\\2025-02-23\\\\t5_base_train_logs_epoch_94.json', 'G:/Github/1LLM-Results/results\\\\t5\\\\2025-02-23\\\\t5_base_train_logs_epoch_95.json', 'G:/Github/1LLM-Results/results\\\\t5\\\\2025-02-23\\\\t5_base_train_logs_epoch_96.json', 'G:/Github/1LLM-Results/results\\\\t5\\\\2025-02-23\\\\t5_base_train_logs_epoch_97.json', 'G:/Github/1LLM-Results/results\\\\t5\\\\2025-02-23\\\\t5_base_train_logs_epoch_98.json', 'G:/Github/1LLM-Results/results\\\\t5\\\\2025-02-23\\\\t5_base_train_logs_epoch_99.json', 'G:/Github/1LLM-Results/results\\\\t5\\\\2025-02-23\\\\t5_base_train_logs_epoch_100.json', 'G:/Github/1LLM-Results/results\\\\t5\\\\2025-02-23\\\\t5_base_train_logs_epoch_101.json', 'G:/Github/1LLM-Results/results\\\\t5\\\\2025-02-23\\\\t5_base_train_logs_epoch_102.json', 'G:/Github/1LLM-Results/results\\\\t5\\\\2025-02-23\\\\t5_base_train_logs_epoch_103.json', 'G:/Github/1LLM-Results/results\\\\t5\\\\2025-02-23\\\\t5_base_train_logs_epoch_104.json', 'G:/Github/1LLM-Results/results\\\\t5\\\\2025-02-23\\\\t5_base_train_logs_epoch_105.json', 'G:/Github/1LLM-Results/results\\\\t5\\\\2025-02-23\\\\t5_base_train_logs_epoch_106.json', 'G:/Github/1LLM-Results/results\\\\t5\\\\2025-02-23\\\\t5_base_train_logs_epoch_107.json', 'G:/Github/1LLM-Results/results\\\\t5\\\\2025-02-23\\\\t5_base_train_logs_epoch_108.json', 'G:/Github/1LLM-Results/results\\\\t5\\\\2025-02-23\\\\t5_base_train_logs_epoch_109.json', 'G:/Github/1LLM-Results/results\\\\t5\\\\2025-02-23\\\\t5_base_train_logs_epoch_110.json', 'G:/Github/1LLM-Results/results\\\\t5\\\\2025-02-23\\\\t5_base_train_logs_epoch_111.json', 'G:/Github/1LLM-Results/results\\\\t5\\\\2025-02-23\\\\t5_base_train_logs_epoch_112.json', 'G:/Github/1LLM-Results/results\\\\t5\\\\2025-02-23\\\\t5_base_train_logs_epoch_113.json', 'G:/Github/1LLM-Results/results\\\\t5\\\\2025-02-23\\\\t5_base_train_logs_epoch_114.json', 'G:/Github/1LLM-Results/results\\\\t5\\\\2025-02-23\\\\t5_base_train_logs_epoch_115.json', 'G:/Github/1LLM-Results/results\\\\t5\\\\2025-02-23\\\\t5_base_train_logs_epoch_116.json', 'G:/Github/1LLM-Results/results\\\\t5\\\\2025-02-23\\\\t5_base_train_logs_epoch_117.json', 'G:/Github/1LLM-Results/results\\\\t5\\\\2025-02-23\\\\t5_base_train_logs_epoch_118.json', 'G:/Github/1LLM-Results/results\\\\t5\\\\2025-02-23\\\\t5_base_train_logs_epoch_119.json', 'G:/Github/1LLM-Results/results\\\\t5\\\\2025-02-23\\\\t5_base_train_logs_epoch_120.json', 'G:/Github/1LLM-Results/results\\\\t5\\\\2025-02-23\\\\t5_base_train_logs_epoch_121.json', 'G:/Github/1LLM-Results/results\\\\t5\\\\2025-02-23\\\\t5_base_train_logs_epoch_122.json', 'G:/Github/1LLM-Results/results\\\\t5\\\\2025-02-23\\\\t5_base_train_logs_epoch_123.json', 'G:/Github/1LLM-Results/results\\\\t5\\\\2025-02-23\\\\t5_base_train_logs_epoch_124.json', 'G:/Github/1LLM-Results/results\\\\t5\\\\2025-02-23\\\\t5_base_train_logs_epoch_125.json', 'G:/Github/1LLM-Results/results\\\\t5\\\\2025-02-23\\\\t5_base_train_logs_epoch_126.json', 'G:/Github/1LLM-Results/results\\\\t5\\\\2025-02-23\\\\t5_base_train_logs_epoch_127.json', 'G:/Github/1LLM-Results/results\\\\t5\\\\2025-02-23\\\\t5_base_train_logs_epoch_128.json', 'G:/Github/1LLM-Results/results\\\\t5\\\\2025-02-23\\\\t5_base_train_logs_epoch_129.json', 'G:/Github/1LLM-Results/results\\\\t5\\\\2025-02-23\\\\t5_base_train_logs_epoch_130.json', 'G:/Github/1LLM-Results/results\\\\t5\\\\2025-02-23\\\\t5_base_train_logs_epoch_131.json', 'G:/Github/1LLM-Results/results\\\\t5\\\\2025-02-23\\\\t5_base_train_logs_epoch_132.json', 'G:/Github/1LLM-Results/results\\\\t5\\\\2025-02-23\\\\t5_base_train_logs_epoch_133.json', 'G:/Github/1LLM-Results/results\\\\t5\\\\2025-02-23\\\\t5_base_train_logs_epoch_134.json', 'G:/Github/1LLM-Results/results\\\\t5\\\\2025-02-23\\\\t5_base_train_logs_epoch_135.json', 'G:/Github/1LLM-Results/results\\\\t5\\\\2025-02-23\\\\t5_base_train_logs_epoch_136.json', 'G:/Github/1LLM-Results/results\\\\t5\\\\2025-02-23\\\\t5_base_train_logs_epoch_137.json', 'G:/Github/1LLM-Results/results\\\\t5\\\\2025-02-23\\\\t5_base_train_logs_epoch_138.json', 'G:/Github/1LLM-Results/results\\\\t5\\\\2025-02-23\\\\t5_base_train_logs_epoch_139.json', 'G:/Github/1LLM-Results/results\\\\t5\\\\2025-02-23\\\\t5_base_train_logs_epoch_140.json', 'G:/Github/1LLM-Results/results\\\\t5\\\\2025-02-23\\\\t5_base_train_logs_epoch_141.json', 'G:/Github/1LLM-Results/results\\\\t5\\\\2025-02-23\\\\t5_base_train_logs_epoch_142.json', 'G:/Github/1LLM-Results/results\\\\t5\\\\2025-02-23\\\\t5_base_train_logs_epoch_143.json', 'G:/Github/1LLM-Results/results\\\\t5\\\\2025-02-23\\\\t5_base_train_logs_epoch_144.json', 'G:/Github/1LLM-Results/results\\\\t5\\\\2025-02-23\\\\t5_base_train_logs_epoch_145.json', 'G:/Github/1LLM-Results/results\\\\t5\\\\2025-02-23\\\\t5_base_train_logs_epoch_146.json', 'G:/Github/1LLM-Results/results\\\\t5\\\\2025-02-23\\\\t5_base_train_logs_epoch_147.json', 'G:/Github/1LLM-Results/results\\\\t5\\\\2025-02-23\\\\t5_base_train_logs_epoch_148.json', 'G:/Github/1LLM-Results/results\\\\t5\\\\2025-02-23\\\\t5_base_train_logs_epoch_149.json', 'G:/Github/1LLM-Results/results\\\\t5\\\\2025-02-23\\\\t5_base_train_logs_epoch_150.json', 'G:/Github/1LLM-Results/results\\\\t5\\\\2025-02-23\\\\t5_base_train_logs_epoch_151.json', 'G:/Github/1LLM-Results/results\\\\t5\\\\2025-02-23\\\\t5_base_train_logs_epoch_152.json', 'G:/Github/1LLM-Results/results\\\\t5\\\\2025-02-23\\\\t5_base_train_logs_epoch_153.json', 'G:/Github/1LLM-Results/results\\\\t5\\\\2025-02-23\\\\t5_base_train_logs_epoch_154.json', 'G:/Github/1LLM-Results/results\\\\t5\\\\2025-02-23\\\\t5_base_train_logs_epoch_155.json', 'G:/Github/1LLM-Results/results\\\\t5\\\\2025-02-23\\\\t5_base_train_logs_epoch_156.json', 'G:/Github/1LLM-Results/results\\\\t5\\\\2025-02-23\\\\t5_base_train_logs_epoch_157.json', 'G:/Github/1LLM-Results/results\\\\t5\\\\2025-02-23\\\\t5_base_train_logs_epoch_158.json', 'G:/Github/1LLM-Results/results\\\\t5\\\\2025-02-23\\\\t5_base_train_logs_epoch_159.json', 'G:/Github/1LLM-Results/results\\\\t5\\\\2025-02-23\\\\t5_base_train_logs_epoch_160.json', 'G:/Github/1LLM-Results/results\\\\t5\\\\2025-02-23\\\\t5_base_train_logs_epoch_161.json', 'G:/Github/1LLM-Results/results\\\\t5\\\\2025-02-23\\\\t5_base_train_logs_epoch_162.json', 'G:/Github/1LLM-Results/results\\\\t5\\\\2025-02-23\\\\t5_base_train_logs_epoch_163.json', 'G:/Github/1LLM-Results/results\\\\t5\\\\2025-02-23\\\\t5_base_train_logs_epoch_164.json', 'G:/Github/1LLM-Results/results\\\\t5\\\\2025-02-23\\\\t5_base_train_logs_epoch_165.json', 'G:/Github/1LLM-Results/results\\\\t5\\\\2025-02-23\\\\t5_base_train_logs_epoch_166.json', 'G:/Github/1LLM-Results/results\\\\t5\\\\2025-02-23\\\\t5_base_train_logs_epoch_167.json', 'G:/Github/1LLM-Results/results\\\\t5\\\\2025-02-23\\\\t5_base_train_logs_epoch_168.json', 'G:/Github/1LLM-Results/results\\\\t5\\\\2025-02-23\\\\t5_base_train_logs_epoch_169.json', 'G:/Github/1LLM-Results/results\\\\t5\\\\2025-02-23\\\\t5_base_train_logs_epoch_170.json', 'G:/Github/1LLM-Results/results\\\\t5\\\\2025-02-23\\\\t5_base_train_logs_epoch_171.json', 'G:/Github/1LLM-Results/results\\\\t5\\\\2025-02-23\\\\t5_base_train_logs_epoch_172.json', 'G:/Github/1LLM-Results/results\\\\t5\\\\2025-02-23\\\\t5_base_train_logs_epoch_173.json', 'G:/Github/1LLM-Results/results\\\\t5\\\\2025-02-23\\\\t5_base_train_logs_epoch_174.json', 'G:/Github/1LLM-Results/results\\\\t5\\\\2025-02-23\\\\t5_base_train_logs_epoch_175.json', 'G:/Github/1LLM-Results/results\\\\t5\\\\2025-02-23\\\\t5_base_train_logs_epoch_176.json', 'G:/Github/1LLM-Results/results\\\\t5\\\\2025-02-23\\\\t5_base_train_logs_epoch_177.json', 'G:/Github/1LLM-Results/results\\\\t5\\\\2025-02-23\\\\t5_base_train_logs_epoch_178.json', 'G:/Github/1LLM-Results/results\\\\t5\\\\2025-02-23\\\\t5_base_train_logs_epoch_179.json', 'G:/Github/1LLM-Results/results\\\\t5\\\\2025-02-23\\\\t5_base_train_logs_epoch_180.json', 'G:/Github/1LLM-Results/results\\\\t5\\\\2025-02-23\\\\t5_base_train_logs_epoch_181.json', 'G:/Github/1LLM-Results/results\\\\t5\\\\2025-02-23\\\\t5_base_train_logs_epoch_182.json', 'G:/Github/1LLM-Results/results\\\\t5\\\\2025-02-23\\\\t5_base_train_logs_epoch_183.json', 'G:/Github/1LLM-Results/results\\\\t5\\\\2025-02-23\\\\t5_base_train_logs_epoch_184.json', 'G:/Github/1LLM-Results/results\\\\t5\\\\2025-02-23\\\\t5_base_train_logs_epoch_185.json', 'G:/Github/1LLM-Results/results\\\\t5\\\\2025-02-23\\\\t5_base_train_logs_epoch_186.json', 'G:/Github/1LLM-Results/results\\\\t5\\\\2025-02-23\\\\t5_base_train_logs_epoch_187.json', 'G:/Github/1LLM-Results/results\\\\t5\\\\2025-02-23\\\\t5_base_train_logs_epoch_188.json', 'G:/Github/1LLM-Results/results\\\\t5\\\\2025-02-23\\\\t5_base_train_logs_epoch_189.json', 'G:/Github/1LLM-Results/results\\\\t5\\\\2025-02-23\\\\t5_base_train_logs_epoch_190.json', 'G:/Github/1LLM-Results/results\\\\t5\\\\2025-02-23\\\\t5_base_train_logs_epoch_191.json', 'G:/Github/1LLM-Results/results\\\\t5\\\\2025-02-23\\\\t5_base_train_logs_epoch_192.json', 'G:/Github/1LLM-Results/results\\\\t5\\\\2025-02-23\\\\t5_base_train_logs_epoch_193.json', 'G:/Github/1LLM-Results/results\\\\t5\\\\2025-02-23\\\\t5_base_train_logs_epoch_194.json', 'G:/Github/1LLM-Results/results\\\\t5\\\\2025-02-23\\\\t5_base_train_logs_epoch_195.json', 'G:/Github/1LLM-Results/results\\\\t5\\\\2025-02-23\\\\t5_base_train_logs_epoch_196.json', 'G:/Github/1LLM-Results/results\\\\t5\\\\2025-02-23\\\\t5_base_train_logs_epoch_197.json', 'G:/Github/1LLM-Results/results\\\\t5\\\\2025-02-23\\\\t5_base_train_logs_epoch_198.json', 'G:/Github/1LLM-Results/results\\\\t5\\\\2025-02-23\\\\t5_base_train_logs_epoch_199.json']\n"
     ]
    }
   ],
   "source": [
    "import os\n",
    "from utils.data_loader import load_log_files, parse_logs\n",
    "from utils.plotter import plot_comparison\n",
    "from config.settings import GRAPH_SAVE_FOLDER, DATA_FOLDER, SAVE_FORMATS\n",
    "\n",
    "# llm_tags = ['opt_train', 'gpt_train', 't5llm_train', 'llama_train1', 'llama_train2', 'llama_train3']\n",
    "# label_name = \"Training\"\n",
    "llm_tags = ['llama3', 'llama2' , 'opt', 'gpt2', 't5']\n",
    "# llm_tags = ['llama3_train', 'opt_train', 'gpt_train', 't5llm_train']\n",
    "label_name = \"Training\"\n",
    "# Create a list to store dataframes for comparison\n",
    "dfs = []\n",
    "labels = []\n",
    "\n",
    "for llm_tag in llm_tags:\n",
    "    # Paths\n",
    "    log_dir = os.path.join(DATA_FOLDER, llm_tag)\n",
    "    print(log_dir)\n",
    "    print(label_name)\n",
    "    \n",
    "    # Load and process data\n",
    "    log_files = load_log_files(log_dir, label_name)\n",
    "    print(log_files)\n",
    "\n",
    "\n",
    "labels = [\"Llama3.2\",\"Llama2\", \"OPT\", \"GPT2\",\"T5\"]\n",
    "\n",
    "# Ensure the save folder exists\n",
    "os.makedirs(GRAPH_SAVE_FOLDER, exist_ok=True)\n",
    "\n",
    "# Save folder for comparison plots\n",
    "comparison_folder = os.path.join(GRAPH_SAVE_FOLDER, label_name+\"comparison\")\n",
    "os.makedirs(comparison_folder, exist_ok=True)\n",
    "\n",
    "\n"
   ]
  },
  {
   "cell_type": "code",
   "execution_count": 2,
   "metadata": {},
   "outputs": [
    {
     "name": "stdout",
     "output_type": "stream",
     "text": [
      "G:/Github/1LLM-Results/results\\llama3 Training\n",
      "training_time 2.9653798522551855\n",
      "start_time 1740191865.898366\n",
      "end_time 1740202541.265834\n",
      "mean_timestamps_each_step 0.26612144708633423\n",
      "\n",
      "----------------------------------------\n",
      "\n",
      "G:/Github/1LLM-Results/results\\llama2 Training\n",
      "training_time 3.965754668182797\n",
      "start_time 1740240455.6529343\n",
      "end_time 1740254732.3697398\n",
      "mean_timestamps_each_step 0.40614426136016846\n",
      "\n",
      "----------------------------------------\n",
      "\n",
      "G:/Github/1LLM-Results/results\\opt Training\n",
      "training_time 1.7723180767562654\n",
      "start_time 1740207122.7218487\n",
      "end_time 1740213503.066925\n",
      "mean_timestamps_each_step 0.20162969827651978\n",
      "\n",
      "----------------------------------------\n",
      "\n",
      "G:/Github/1LLM-Results/results\\gpt2 Training\n",
      "training_time 1.636055628127522\n",
      "start_time 1740229961.5878303\n",
      "end_time 1740235851.3880916\n",
      "mean_timestamps_each_step 0.17413568496704102\n",
      "\n",
      "----------------------------------------\n",
      "\n",
      "G:/Github/1LLM-Results/results\\t5 Training\n",
      "training_time 2.3806584050258\n",
      "start_time 1740217150.7564173\n",
      "end_time 1740225721.1266754\n",
      "mean_timestamps_each_step 0.2708926796913147\n",
      "\n",
      "----------------------------------------\n",
      "\n",
      "folder save output/graphs/Trainingcomparison\n"
     ]
    },
    {
     "name": "stderr",
     "output_type": "stream",
     "text": [
      "The PostScript backend does not support transparency; partially transparent artists will be rendered opaque.\n"
     ]
    },
    {
     "name": "stdout",
     "output_type": "stream",
     "text": [
      "folder save output/graphs/Trainingcomparison\n"
     ]
    },
    {
     "name": "stderr",
     "output_type": "stream",
     "text": [
      "The PostScript backend does not support transparency; partially transparent artists will be rendered opaque.\n"
     ]
    }
   ],
   "source": [
    "# %%\n",
    "import os\n",
    "from utils.data_loader import load_log_files, parse_logs\n",
    "from utils.plotter import plot_comparison\n",
    "from config.settings import GRAPH_SAVE_FOLDER, DATA_FOLDER, SAVE_FORMATS\n",
    "\n",
    "# llm_tags = ['opt_train', 'gpt_train', 't5llm_train', 'llama_train1', 'llama_train2', 'llama_train3']\n",
    "# label_name = \"Training\"\n",
    "llm_tags = ['llama3', 'llama2' , 'opt', 'gpt2', 't5']\n",
    "\n",
    "# llm_tags = ['llama3_train', 'opt_train', 'gpt_train', 't5llm_train']\n",
    "label_name = \"Training\"\n",
    "# Create a list to store dataframes for comparison\n",
    "dfs = []\n",
    "labels = []\n",
    "\n",
    "for llm_tag in llm_tags:\n",
    "    # Paths\n",
    "    log_dir = os.path.join(DATA_FOLDER, llm_tag)\n",
    "    print(log_dir, label_name)\n",
    "    \n",
    "    # Load and process data\n",
    "    log_files = load_log_files(log_dir, label_name)\n",
    "    df = parse_logs( log_files, label_name)\n",
    "    \n",
    "    # Append the dataframe and label\n",
    "    dfs.append(df)\n",
    "    labels.append(llm_tag.replace(\"_train\",\"\"))\n",
    "\n",
    "\n",
    "labels = [\"Llama3.2\",\"Llama2\", \"OPT\", \"GPT2\",\"T5\"]\n",
    "\n",
    "# Ensure the save folder exists\n",
    "os.makedirs(GRAPH_SAVE_FOLDER, exist_ok=True)\n",
    "\n",
    "# Save folder for comparison plots\n",
    "comparison_folder = os.path.join(GRAPH_SAVE_FOLDER, label_name+\"comparison\")\n",
    "os.makedirs(comparison_folder, exist_ok=True)\n",
    "\n",
    "# Plot Mean Loss comparison\n",
    "plot_comparison(\n",
    "    dfs, 'Epoch', 'Mean Loss', labels,\n",
    "    'Mean Loss Comparison over Epochs', 'Epoch', 'Mean Loss',\n",
    "    \"Mean_Loss_Comparison_Train\", comparison_folder\n",
    ")\n",
    "\n",
    "# Plot Mean Accuracy comparison\n",
    "plot_comparison(\n",
    "    dfs, 'Epoch', 'Mean Accuracy', labels,\n",
    "    'Mean Accuracy Comparison over Epochs', 'Epoch', 'Mean Accuracy',\n",
    "    \"Mean_Accuracy_Comparison_Train\", comparison_folder\n",
    ")\n"
   ]
  },
  {
   "cell_type": "code",
   "execution_count": 3,
   "metadata": {},
   "outputs": [
    {
     "name": "stdout",
     "output_type": "stream",
     "text": [
      "G:/Github/1LLM-Results/results\\llama3 Testing\n",
      "training_time 1.2380883433421452\n",
      "start_time 1740202579.9737244\n",
      "end_time 1740207037.0917604\n",
      "mean_timestamps_each_step 0.08892178535461426\n",
      "\n",
      "----------------------------------------\n",
      "\n",
      "G:/Github/1LLM-Results/results\\llama2 Testing\n",
      "training_time 1.8997121818198097\n",
      "start_time 1740254766.1695611\n",
      "end_time 1740261605.1334157\n",
      "mean_timestamps_each_step 0.12497663497924805\n",
      "\n",
      "----------------------------------------\n",
      "\n",
      "G:/Github/1LLM-Results/results\\opt Testing\n",
      "training_time 0.9826748464504877\n",
      "start_time 1740213542.627851\n",
      "end_time 1740217080.2572982\n",
      "mean_timestamps_each_step 0.08411484956741333\n",
      "\n",
      "----------------------------------------\n",
      "\n",
      "G:/Github/1LLM-Results/results\\gpt2 Testing\n",
      "training_time 1.250855560766326\n",
      "start_time 1740235868.2590773\n",
      "end_time 1740240371.339096\n",
      "mean_timestamps_each_step 0.12496709823608398\n",
      "\n",
      "----------------------------------------\n",
      "\n",
      "G:/Github/1LLM-Results/results\\t5 Testing\n",
      "training_time 1.1556094153722127\n",
      "start_time 1740225737.8747885\n",
      "end_time 1740229898.0686839\n",
      "mean_timestamps_each_step 0.08892172574996948\n",
      "\n",
      "----------------------------------------\n",
      "\n",
      "folder save output/graphs/Testingcomparison\n"
     ]
    },
    {
     "name": "stderr",
     "output_type": "stream",
     "text": [
      "The PostScript backend does not support transparency; partially transparent artists will be rendered opaque.\n"
     ]
    },
    {
     "name": "stdout",
     "output_type": "stream",
     "text": [
      "folder save output/graphs/Testingcomparison\n"
     ]
    },
    {
     "name": "stderr",
     "output_type": "stream",
     "text": [
      "The PostScript backend does not support transparency; partially transparent artists will be rendered opaque.\n"
     ]
    }
   ],
   "source": [
    "import os\n",
    "from utils.data_loader import load_log_files, parse_logs\n",
    "from utils.plotter import plot_comparison\n",
    "from config.settings import GRAPH_SAVE_FOLDER, DATA_FOLDER, SAVE_FORMATS\n",
    "\n",
    "# llm_tags = ['opt_test', 'gpt_test', 't5llm_test','llama_test2','llama_test3']\n",
    "# label_name = \"Testing\"\n",
    "\n",
    "llm_tags = ['llama3', 'llama2' , 'opt', 'gpt2', 't5']\n",
    "label_name = \"Testing\"\n",
    "\n",
    "# Create a list to store dataframes for comparison\n",
    "dfs = []\n",
    "labels = []\n",
    "\n",
    "for llm_tag in llm_tags:\n",
    "    # Paths\n",
    "    log_dir = os.path.join(DATA_FOLDER, llm_tag)\n",
    "    print(log_dir, label_name)\n",
    "    \n",
    "    # Load and process data\n",
    "    log_files = load_log_files(log_dir, label_name)\n",
    "    df = parse_logs(log_files, label_name)\n",
    "    \n",
    "    # Append the dataframe and label\n",
    "    dfs.append(df)\n",
    "    labels.append(llm_tag)\n",
    "\n",
    "# Ensure the save folder exists\n",
    "os.makedirs(GRAPH_SAVE_FOLDER, exist_ok=True)\n",
    "\n",
    "# Save folder for comparison plots\n",
    "comparison_folder = os.path.join(GRAPH_SAVE_FOLDER, label_name+\"comparison\")\n",
    "os.makedirs(comparison_folder, exist_ok=True)\n",
    "\n",
    "labels = [\"Llama3.2\",\"Llama2\", \"OPT\", \"GPT2\",\"T5\"]\n",
    "\n",
    "# Plot Mean Loss comparison\n",
    "plot_comparison(\n",
    "    dfs, 'Epoch', 'Mean Loss', labels,\n",
    "    'Mean Loss Comparison over Epochs', 'Epoch', 'Mean Loss',\n",
    "    \"Mean_Loss_Comparison_test\", comparison_folder\n",
    ")\n",
    "\n",
    "# Plot Mean Accuracy comparison\n",
    "plot_comparison(\n",
    "    dfs, 'Epoch', 'Mean Accuracy', labels,\n",
    "    'Mean Accuracy Comparison over Epochs', 'Epoch', 'Mean Accuracy',\n",
    "    \"Mean_Accuracy_Comparison_test\", comparison_folder\n",
    ")\n"
   ]
  },
  {
   "cell_type": "code",
   "execution_count": 4,
   "metadata": {},
   "outputs": [
    {
     "name": "stdout",
     "output_type": "stream",
     "text": [
      "G:/Github/1LLM-Results/results\\llama3 Training\n",
      "training_time 2.9653798522551855\n",
      "start_time 1740191865.898366\n",
      "end_time 1740202541.265834\n",
      "mean_timestamps_each_step 0.26612144708633423\n",
      "\n",
      "----------------------------------------\n",
      "\n"
     ]
    },
    {
     "name": "stderr",
     "output_type": "stream",
     "text": [
      "The PostScript backend does not support transparency; partially transparent artists will be rendered opaque.\n",
      "The PostScript backend does not support transparency; partially transparent artists will be rendered opaque.\n",
      "The PostScript backend does not support transparency; partially transparent artists will be rendered opaque.\n",
      "The PostScript backend does not support transparency; partially transparent artists will be rendered opaque.\n",
      "The PostScript backend does not support transparency; partially transparent artists will be rendered opaque.\n",
      "The PostScript backend does not support transparency; partially transparent artists will be rendered opaque.\n"
     ]
    },
    {
     "name": "stdout",
     "output_type": "stream",
     "text": [
      "G:/Github/1LLM-Results/results\\llama2 Training\n",
      "training_time 3.965754668182797\n",
      "start_time 1740240455.6529343\n",
      "end_time 1740254732.3697398\n",
      "mean_timestamps_each_step 0.40614426136016846\n",
      "\n",
      "----------------------------------------\n",
      "\n"
     ]
    },
    {
     "name": "stderr",
     "output_type": "stream",
     "text": [
      "The PostScript backend does not support transparency; partially transparent artists will be rendered opaque.\n",
      "The PostScript backend does not support transparency; partially transparent artists will be rendered opaque.\n",
      "The PostScript backend does not support transparency; partially transparent artists will be rendered opaque.\n",
      "The PostScript backend does not support transparency; partially transparent artists will be rendered opaque.\n",
      "The PostScript backend does not support transparency; partially transparent artists will be rendered opaque.\n",
      "The PostScript backend does not support transparency; partially transparent artists will be rendered opaque.\n"
     ]
    },
    {
     "name": "stdout",
     "output_type": "stream",
     "text": [
      "G:/Github/1LLM-Results/results\\opt Training\n",
      "training_time 1.7723180767562654\n",
      "start_time 1740207122.7218487\n",
      "end_time 1740213503.066925\n",
      "mean_timestamps_each_step 0.20162969827651978\n",
      "\n",
      "----------------------------------------\n",
      "\n"
     ]
    },
    {
     "name": "stderr",
     "output_type": "stream",
     "text": [
      "The PostScript backend does not support transparency; partially transparent artists will be rendered opaque.\n",
      "The PostScript backend does not support transparency; partially transparent artists will be rendered opaque.\n",
      "The PostScript backend does not support transparency; partially transparent artists will be rendered opaque.\n",
      "The PostScript backend does not support transparency; partially transparent artists will be rendered opaque.\n",
      "The PostScript backend does not support transparency; partially transparent artists will be rendered opaque.\n",
      "The PostScript backend does not support transparency; partially transparent artists will be rendered opaque.\n"
     ]
    },
    {
     "name": "stdout",
     "output_type": "stream",
     "text": [
      "G:/Github/1LLM-Results/results\\gpt2 Training\n",
      "training_time 1.636055628127522\n",
      "start_time 1740229961.5878303\n",
      "end_time 1740235851.3880916\n",
      "mean_timestamps_each_step 0.17413568496704102\n",
      "\n",
      "----------------------------------------\n",
      "\n"
     ]
    },
    {
     "name": "stderr",
     "output_type": "stream",
     "text": [
      "The PostScript backend does not support transparency; partially transparent artists will be rendered opaque.\n",
      "The PostScript backend does not support transparency; partially transparent artists will be rendered opaque.\n",
      "The PostScript backend does not support transparency; partially transparent artists will be rendered opaque.\n",
      "The PostScript backend does not support transparency; partially transparent artists will be rendered opaque.\n",
      "The PostScript backend does not support transparency; partially transparent artists will be rendered opaque.\n",
      "The PostScript backend does not support transparency; partially transparent artists will be rendered opaque.\n"
     ]
    },
    {
     "name": "stdout",
     "output_type": "stream",
     "text": [
      "G:/Github/1LLM-Results/results\\t5 Training\n",
      "training_time 2.3806584050258\n",
      "start_time 1740217150.7564173\n",
      "end_time 1740225721.1266754\n",
      "mean_timestamps_each_step 0.2708926796913147\n",
      "\n",
      "----------------------------------------\n",
      "\n"
     ]
    },
    {
     "name": "stderr",
     "output_type": "stream",
     "text": [
      "The PostScript backend does not support transparency; partially transparent artists will be rendered opaque.\n",
      "The PostScript backend does not support transparency; partially transparent artists will be rendered opaque.\n",
      "The PostScript backend does not support transparency; partially transparent artists will be rendered opaque.\n",
      "The PostScript backend does not support transparency; partially transparent artists will be rendered opaque.\n",
      "The PostScript backend does not support transparency; partially transparent artists will be rendered opaque.\n",
      "The PostScript backend does not support transparency; partially transparent artists will be rendered opaque.\n"
     ]
    }
   ],
   "source": [
    "import os\n",
    "from utils.data_loader import load_log_files, parse_logs\n",
    "from utils.plotter import plot_metric\n",
    "from config.settings import GRAPH_SAVE_FOLDER, DATA_FOLDER, SAVE_FORMATS\n",
    "\n",
    "\n",
    "# llm_tags = ['opt_train', 'gpt_train', 't5llm_train', 'llama_train1','llama_train2','llama_train3','llama_train13']\n",
    "llm_tags = ['llama3', 'llama2' , 'opt', 'gpt2', 't5']\n",
    "label_name = \"Training\"\n",
    "\n",
    "# llm_tags = ['opt_test', 'gpt_test', 't5llm_test','llama_test2','llama_test3']\n",
    "# llm_tags = ['llama_test', 'opt_test', 'gpt_test', 't5llm_test']\n",
    "# label_name = \"Testing\"\n",
    "\n",
    "for llm_tag in llm_tags:\n",
    "    \n",
    "    # Paths\"\n",
    "    log_dir = os.path.join(DATA_FOLDER, llm_tag)\n",
    "    print(log_dir,label_name)\n",
    "\n",
    "    # Ensure the save folders exist\n",
    "    os.makedirs(GRAPH_SAVE_FOLDER, exist_ok=True)\n",
    "\n",
    "    # Add a tag to the folder for better organization\n",
    "    graphs_save_folder = os.path.join(GRAPH_SAVE_FOLDER, llm_tag)\n",
    "\n",
    "    # Ensure the tagged folder exists\n",
    "    os.makedirs(graphs_save_folder, exist_ok=True)\n",
    "\n",
    "\n",
    "    # Load and process data\n",
    "    log_files = load_log_files(log_dir,label_name)\n",
    "    df = parse_logs( log_files,label_name)\n",
    "\n",
    "\n",
    "    # Plot Mean and Median Loss over Epochs\n",
    "    plot_metric(\n",
    "        df, 'Epoch', ['Mean Loss', 'Median Loss'],\n",
    "        [label_name + 'Mean Loss', label_name + 'Median Loss'],\n",
    "        'Mean and Median Loss over Epochs', 'Epoch', 'Loss',\n",
    "        label_name + \"Mean_Median_Loss_Graph\", graphs_save_folder\n",
    "    )\n",
    "\n",
    "    # Plot Mean Accuracy over Epochs\n",
    "    plot_metric(\n",
    "        df, 'Epoch', ['Mean Accuracy'],\n",
    "        [label_name + 'Mean Accuracy'],\n",
    "        'Mean Accuracy over Epochs', 'Epoch', 'Accuracy',\n",
    "        label_name + \"Mean_Accuracy_Graph\", graphs_save_folder\n",
    "    )\n",
    "\n",
    "    # Plot Mean CPU Usage over Epochs\n",
    "    plot_metric(\n",
    "        df, 'Epoch', ['Mean CPU Usage'],\n",
    "        [label_name + 'Mean CPU Usage'],\n",
    "        'Mean CPU Usage over Epochs', 'Epoch', 'CPU Usage (%)',\n",
    "        label_name + \"Mean_CPU_Usage_Graph\", graphs_save_folder\n",
    "    )\n",
    "\n",
    "    # Plot Mean RAM Usage over Epochs\n",
    "    plot_metric(\n",
    "        df, 'Epoch', ['Mean RAM Usage'],\n",
    "        [label_name + 'Mean RAM Usage'],\n",
    "        'Mean RAM Usage over Epochs', 'Epoch', 'RAM Usage (%)',\n",
    "        label_name + \"Mean_RAM_Usage_Graph\", graphs_save_folder\n",
    "    )\n",
    "\n",
    "    # Plot Mean GPU Usage over Epochs\n",
    "    plot_metric(\n",
    "        df, 'Epoch', ['Mean GPU Usage'],\n",
    "        [label_name + 'Mean GPU Usage'],\n",
    "        'Mean GPU Usage over Epochs', 'Epoch', 'GPU Usage (%)',\n",
    "        label_name + \"Mean_GPU_Usage_Graph\", graphs_save_folder\n",
    "    )\n",
    "\n",
    "    # Plot Mean Disk Read and Write Speed over Epochs\n",
    "    plot_metric(\n",
    "        df, 'Epoch', ['Mean Disk Read Speed', 'Mean Disk Write Speed'],\n",
    "        [label_name + 'Mean Disk Read Speed', label_name + 'Mean Disk Write Speed'],\n",
    "        'Mean Disk Read and Write Speed over Epochs', 'Epoch', 'Speed (MB/s)',\n",
    "        label_name + \"Mean_Disk_Speed_Graph\", graphs_save_folder\n",
    "    )\n",
    "\n",
    "\n",
    "    # Repeat for other metrics...\n"
   ]
  },
  {
   "cell_type": "code",
   "execution_count": 5,
   "metadata": {},
   "outputs": [
    {
     "name": "stdout",
     "output_type": "stream",
     "text": [
      "G:/Github/1LLM-Results/results\\llama3 Testing\n",
      "training_time 1.2380883433421452\n",
      "start_time 1740202579.9737244\n",
      "end_time 1740207037.0917604\n",
      "mean_timestamps_each_step 0.08892178535461426\n",
      "\n",
      "----------------------------------------\n",
      "\n"
     ]
    },
    {
     "name": "stderr",
     "output_type": "stream",
     "text": [
      "The PostScript backend does not support transparency; partially transparent artists will be rendered opaque.\n",
      "The PostScript backend does not support transparency; partially transparent artists will be rendered opaque.\n",
      "The PostScript backend does not support transparency; partially transparent artists will be rendered opaque.\n",
      "The PostScript backend does not support transparency; partially transparent artists will be rendered opaque.\n",
      "The PostScript backend does not support transparency; partially transparent artists will be rendered opaque.\n",
      "The PostScript backend does not support transparency; partially transparent artists will be rendered opaque.\n"
     ]
    },
    {
     "name": "stdout",
     "output_type": "stream",
     "text": [
      "G:/Github/1LLM-Results/results\\llama2 Testing\n",
      "training_time 1.8997121818198097\n",
      "start_time 1740254766.1695611\n",
      "end_time 1740261605.1334157\n",
      "mean_timestamps_each_step 0.12497663497924805\n",
      "\n",
      "----------------------------------------\n",
      "\n"
     ]
    },
    {
     "name": "stderr",
     "output_type": "stream",
     "text": [
      "The PostScript backend does not support transparency; partially transparent artists will be rendered opaque.\n",
      "The PostScript backend does not support transparency; partially transparent artists will be rendered opaque.\n",
      "The PostScript backend does not support transparency; partially transparent artists will be rendered opaque.\n",
      "The PostScript backend does not support transparency; partially transparent artists will be rendered opaque.\n",
      "The PostScript backend does not support transparency; partially transparent artists will be rendered opaque.\n",
      "The PostScript backend does not support transparency; partially transparent artists will be rendered opaque.\n"
     ]
    },
    {
     "name": "stdout",
     "output_type": "stream",
     "text": [
      "G:/Github/1LLM-Results/results\\opt Testing\n",
      "training_time 0.9826748464504877\n",
      "start_time 1740213542.627851\n",
      "end_time 1740217080.2572982\n",
      "mean_timestamps_each_step 0.08411484956741333\n",
      "\n",
      "----------------------------------------\n",
      "\n"
     ]
    },
    {
     "name": "stderr",
     "output_type": "stream",
     "text": [
      "The PostScript backend does not support transparency; partially transparent artists will be rendered opaque.\n",
      "The PostScript backend does not support transparency; partially transparent artists will be rendered opaque.\n",
      "The PostScript backend does not support transparency; partially transparent artists will be rendered opaque.\n",
      "The PostScript backend does not support transparency; partially transparent artists will be rendered opaque.\n",
      "The PostScript backend does not support transparency; partially transparent artists will be rendered opaque.\n",
      "The PostScript backend does not support transparency; partially transparent artists will be rendered opaque.\n"
     ]
    },
    {
     "name": "stdout",
     "output_type": "stream",
     "text": [
      "G:/Github/1LLM-Results/results\\gpt2 Testing\n",
      "training_time 1.250855560766326\n",
      "start_time 1740235868.2590773\n",
      "end_time 1740240371.339096\n",
      "mean_timestamps_each_step 0.12496709823608398\n",
      "\n",
      "----------------------------------------\n",
      "\n"
     ]
    },
    {
     "name": "stderr",
     "output_type": "stream",
     "text": [
      "The PostScript backend does not support transparency; partially transparent artists will be rendered opaque.\n",
      "The PostScript backend does not support transparency; partially transparent artists will be rendered opaque.\n",
      "The PostScript backend does not support transparency; partially transparent artists will be rendered opaque.\n",
      "The PostScript backend does not support transparency; partially transparent artists will be rendered opaque.\n",
      "The PostScript backend does not support transparency; partially transparent artists will be rendered opaque.\n",
      "The PostScript backend does not support transparency; partially transparent artists will be rendered opaque.\n"
     ]
    },
    {
     "name": "stdout",
     "output_type": "stream",
     "text": [
      "G:/Github/1LLM-Results/results\\t5 Testing\n",
      "training_time 1.1556094153722127\n",
      "start_time 1740225737.8747885\n",
      "end_time 1740229898.0686839\n",
      "mean_timestamps_each_step 0.08892172574996948\n",
      "\n",
      "----------------------------------------\n",
      "\n"
     ]
    },
    {
     "name": "stderr",
     "output_type": "stream",
     "text": [
      "The PostScript backend does not support transparency; partially transparent artists will be rendered opaque.\n",
      "The PostScript backend does not support transparency; partially transparent artists will be rendered opaque.\n",
      "The PostScript backend does not support transparency; partially transparent artists will be rendered opaque.\n",
      "The PostScript backend does not support transparency; partially transparent artists will be rendered opaque.\n",
      "The PostScript backend does not support transparency; partially transparent artists will be rendered opaque.\n",
      "The PostScript backend does not support transparency; partially transparent artists will be rendered opaque.\n"
     ]
    }
   ],
   "source": [
    "import os\n",
    "from utils.data_loader import load_log_files, parse_logs\n",
    "from utils.plotter import plot_metric\n",
    "from config.settings import GRAPH_SAVE_FOLDER, DATA_FOLDER, SAVE_FORMATS\n",
    "\n",
    "\n",
    "# llm_tags = ['opt_train', 'gpt_train', 't5llm_train', 'llama_train1','llama_train2','llama_train3','llama_train13']\n",
    "# llm_tags = ['llama_train', 'opt_train', 'gpt_train', 't5llm_train']\n",
    "# label_name = \"Training\"\n",
    "\n",
    "# llm_tags = ['opt_test', 'gpt_test', 't5llm_test','llama_test2','llama_test3']\n",
    "llm_tags = ['llama3', 'llama2' , 'opt', 'gpt2', 't5']\n",
    "label_name = \"Testing\"\n",
    "\n",
    "for llm_tag in llm_tags:\n",
    "    \n",
    "    # Paths\"\n",
    "    log_dir = os.path.join(DATA_FOLDER, llm_tag)\n",
    "    print(log_dir,label_name)\n",
    "\n",
    "    # Ensure the save folders exist\n",
    "    os.makedirs(GRAPH_SAVE_FOLDER, exist_ok=True)\n",
    "\n",
    "    # Add a tag to the folder for better organization\n",
    "    graphs_save_folder = os.path.join(GRAPH_SAVE_FOLDER, llm_tag)\n",
    "\n",
    "    # Ensure the tagged folder exists\n",
    "    os.makedirs(graphs_save_folder, exist_ok=True)\n",
    "\n",
    "\n",
    "    # Load and process data\n",
    "    log_files = load_log_files(log_dir,label_name)\n",
    "    df = parse_logs( log_files,label_name)\n",
    "\n",
    "\n",
    "    # Plot Mean and Median Loss over Epochs\n",
    "    plot_metric(\n",
    "        df, 'Epoch', ['Mean Loss', 'Median Loss'],\n",
    "        [label_name + 'Mean Loss', label_name + 'Median Loss'],\n",
    "        'Mean and Median Loss over Epochs', 'Epoch', 'Loss',\n",
    "        label_name + \"Mean_Median_Loss_Graph\", graphs_save_folder\n",
    "    )\n",
    "\n",
    "    # Plot Mean Accuracy over Epochs\n",
    "    plot_metric(\n",
    "        df, 'Epoch', ['Mean Accuracy'],\n",
    "        [label_name + 'Mean Accuracy'],\n",
    "        'Mean Accuracy over Epochs', 'Epoch', 'Accuracy',\n",
    "        label_name + \"Mean_Accuracy_Graph\", graphs_save_folder\n",
    "    )\n",
    "\n",
    "    # Plot Mean CPU Usage over Epochs\n",
    "    plot_metric(\n",
    "        df, 'Epoch', ['Mean CPU Usage'],\n",
    "        [label_name + 'Mean CPU Usage'],\n",
    "        'Mean CPU Usage over Epochs', 'Epoch', 'CPU Usage (%)',\n",
    "        label_name + \"Mean_CPU_Usage_Graph\", graphs_save_folder\n",
    "    )\n",
    "\n",
    "    # Plot Mean RAM Usage over Epochs\n",
    "    plot_metric(\n",
    "        df, 'Epoch', ['Mean RAM Usage'],\n",
    "        [label_name + 'Mean RAM Usage'],\n",
    "        'Mean RAM Usage over Epochs', 'Epoch', 'RAM Usage (%)',\n",
    "        label_name + \"Mean_RAM_Usage_Graph\", graphs_save_folder\n",
    "    )\n",
    "\n",
    "    # Plot Mean GPU Usage over Epochs\n",
    "    plot_metric(\n",
    "        df, 'Epoch', ['Mean GPU Usage'],\n",
    "        [label_name + 'Mean GPU Usage'],\n",
    "        'Mean GPU Usage over Epochs', 'Epoch', 'GPU Usage (%)',\n",
    "        label_name + \"Mean_GPU_Usage_Graph\", graphs_save_folder\n",
    "    )\n",
    "\n",
    "    # Plot Mean Disk Read and Write Speed over Epochs\n",
    "    plot_metric(\n",
    "        df, 'Epoch', ['Mean Disk Read Speed', 'Mean Disk Write Speed'],\n",
    "        [label_name + 'Mean Disk Read Speed', label_name + 'Mean Disk Write Speed'],\n",
    "        'Mean Disk Read and Write Speed over Epochs', 'Epoch', 'Speed (MB/s)',\n",
    "        label_name + \"Mean_Disk_Speed_Graph\", graphs_save_folder\n",
    "    )\n",
    "\n",
    "\n",
    "    # Repeat for other metrics...\n"
   ]
  }
 ],
 "metadata": {
  "kernelspec": {
   "display_name": "vizenv",
   "language": "python",
   "name": "python3"
  },
  "language_info": {
   "codemirror_mode": {
    "name": "ipython",
    "version": 3
   },
   "file_extension": ".py",
   "mimetype": "text/x-python",
   "name": "python",
   "nbconvert_exporter": "python",
   "pygments_lexer": "ipython3",
   "version": "3.12.8"
  }
 },
 "nbformat": 4,
 "nbformat_minor": 2
}
