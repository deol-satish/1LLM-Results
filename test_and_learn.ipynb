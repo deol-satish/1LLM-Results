{
 "cells": [
  {
   "cell_type": "code",
   "execution_count": 14,
   "id": "126f7930",
   "metadata": {},
   "outputs": [
    {
     "name": "stdout",
     "output_type": "stream",
     "text": [
      "     state_6 other_column\n",
      "100     10.5            a\n",
      "101     20.3            b\n",
      "102     15.2            c\n",
      "103     25.0            d\n",
      "104     18.8            e\n",
      "User input: 17.0\n",
      "Nearest index: 102\n",
      "Nearest row:\n",
      " state_6         15.2\n",
      "other_column       c\n",
      "Name: 102, dtype: object\n"
     ]
    }
   ],
   "source": [
    "import pandas as pd\n",
    "\n",
    "# Create a sample DataFrame with some values in 'state_6'\n",
    "data = {\n",
    "    'state_6': [10.5, 20.3, 15.2, 25.0, 18.8],\n",
    "    'other_column': ['a', 'b', 'c', 'd', 'e']\n",
    "}\n",
    "df = pd.DataFrame(data, index=[100, 101, 102, 103, 104])  # Custom index\n",
    "\n",
    "print(df)\n",
    "\n",
    "# User input to compare\n",
    "user_input = 17.0\n",
    "\n",
    "# Find the index with the nearest 'state_6' value\n",
    "nearest_idx = (df['state_6'] - user_input).abs().idxmin()\n",
    "\n",
    "# Print results\n",
    "print(\"User input:\", user_input)\n",
    "print(\"Nearest index:\", nearest_idx)\n",
    "print(\"Nearest row:\\n\", df.loc[nearest_idx])\n"
   ]
  },
  {
   "cell_type": "code",
   "execution_count": 15,
   "id": "546c6e75",
   "metadata": {},
   "outputs": [
    {
     "data": {
      "text/plain": [
       "102"
      ]
     },
     "execution_count": 15,
     "metadata": {},
     "output_type": "execute_result"
    }
   ],
   "source": [
    "(df['state_6'] - user_input).abs().idxmin()  # This line finds the index of the nearest value in 'state_6' to user_input"
   ]
  }
 ],
 "metadata": {
  "kernelspec": {
   "display_name": "base",
   "language": "python",
   "name": "python3"
  },
  "language_info": {
   "codemirror_mode": {
    "name": "ipython",
    "version": 3
   },
   "file_extension": ".py",
   "mimetype": "text/x-python",
   "name": "python",
   "nbconvert_exporter": "python",
   "pygments_lexer": "ipython3",
   "version": "3.12.7"
  }
 },
 "nbformat": 4,
 "nbformat_minor": 5
}
